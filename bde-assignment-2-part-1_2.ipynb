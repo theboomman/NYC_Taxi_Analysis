{
 "cells": [
  {
   "cell_type": "markdown",
   "metadata": {
    "application/vnd.databricks.v1+cell": {
     "cellMetadata": {},
     "inputWidgets": {},
     "nuid": "136778b3-674d-4fcf-aa12-5da01c6a62a6",
     "showTitle": false,
     "title": ""
    }
   },
   "source": [
    "5.2 Yellow Taxi "
   ]
  },
  {
   "cell_type": "code",
   "execution_count": 0,
   "metadata": {
    "application/vnd.databricks.v1+cell": {
     "cellMetadata": {},
     "inputWidgets": {},
     "nuid": "e80d7ea0-79e2-4eeb-821c-19bae737bd23",
     "showTitle": false,
     "title": ""
    }
   },
   "outputs": [],
   "source": [
    "#Load the yellow taxi dataframe\n",
    "df_y = spark.read.option(\"header\", True).parquet(\"/mnt/dummy-1/yellow_taxi*\")\n",
    "display(df_y)"
   ]
  },
  {
   "cell_type": "code",
   "execution_count": 0,
   "metadata": {
    "application/vnd.databricks.v1+cell": {
     "cellMetadata": {},
     "inputWidgets": {},
     "nuid": "a870fb0e-4680-4659-b450-3da46ca2a377",
     "showTitle": false,
     "title": ""
    }
   },
   "outputs": [
    {
     "output_type": "stream",
     "name": "stdout",
     "output_type": "stream",
     "text": [
      "(663055251, 19)\n"
     ]
    }
   ],
   "source": [
    "#Shape of yellow taxi dataframe\n",
    "print((df_y.count(), len(df_y.columns)))"
   ]
  },
  {
   "cell_type": "code",
   "execution_count": 0,
   "metadata": {
    "application/vnd.databricks.v1+cell": {
     "cellMetadata": {},
     "inputWidgets": {},
     "nuid": "23ebc5dc-a11f-4b71-9eff-e140c640cc79",
     "showTitle": false,
     "title": ""
    }
   },
   "outputs": [
    {
     "output_type": "stream",
     "name": "stdout",
     "output_type": "stream",
     "text": [
      "root\n |-- VendorID: long (nullable = true)\n |-- tpep_pickup_datetime: timestamp (nullable = true)\n |-- tpep_dropoff_datetime: timestamp (nullable = true)\n |-- passenger_count: double (nullable = true)\n |-- trip_distance: double (nullable = true)\n |-- RatecodeID: double (nullable = true)\n |-- store_and_fwd_flag: string (nullable = true)\n |-- PULocationID: long (nullable = true)\n |-- DOLocationID: long (nullable = true)\n |-- payment_type: long (nullable = true)\n |-- fare_amount: double (nullable = true)\n |-- extra: double (nullable = true)\n |-- mta_tax: double (nullable = true)\n |-- tip_amount: double (nullable = true)\n |-- tolls_amount: double (nullable = true)\n |-- improvement_surcharge: double (nullable = true)\n |-- total_amount: double (nullable = true)\n |-- congestion_surcharge: double (nullable = true)\n |-- airport_fee: double (nullable = true)\n\n"
     ]
    }
   ],
   "source": [
    "df_y.printSchema() "
   ]
  },
  {
   "cell_type": "code",
   "execution_count": 0,
   "metadata": {
    "application/vnd.databricks.v1+cell": {
     "cellMetadata": {},
     "inputWidgets": {},
     "nuid": "a8a5aa6e-c2c3-442d-b4c2-296ba769443f",
     "showTitle": false,
     "title": ""
    }
   },
   "outputs": [],
   "source": [
    "#Drop some unused columns\n",
    "df_y_c = df_y.drop(\"VendorID\", \"RatecodeID\", \"store_and_fwd_flag\", \"payment_type\")\n",
    "display(df_y_c)"
   ]
  },
  {
   "cell_type": "code",
   "execution_count": 0,
   "metadata": {
    "application/vnd.databricks.v1+cell": {
     "cellMetadata": {},
     "inputWidgets": {},
     "nuid": "bc895909-be33-4838-82c6-4d2701177841",
     "showTitle": false,
     "title": ""
    }
   },
   "outputs": [],
   "source": [
    "#Reduce the size of yellow taxi dataset due to it take more than 1 hour to run entire around 600 million rows.\n",
    "#Sample the dataset by 20% of entire dataset.\n",
    "df_y_s = df_y_c.sample(withReplacement=False, fraction=0.2, seed=42)\n",
    "display(df_y_s)\n",
    "df_y_s.cache().count()"
   ]
  },
  {
   "cell_type": "code",
   "execution_count": 0,
   "metadata": {
    "application/vnd.databricks.v1+cell": {
     "cellMetadata": {},
     "inputWidgets": {},
     "nuid": "3a3bff95-ce66-46e7-8fd9-9bd61d034d89",
     "showTitle": false,
     "title": ""
    }
   },
   "outputs": [],
   "source": [
    "#Use Spark SQL and create temp view for SQL\n",
    "df_y_s.createOrReplaceTempView(\"taxi_y_trips\")"
   ]
  },
  {
   "cell_type": "code",
   "execution_count": 0,
   "metadata": {
    "application/vnd.databricks.v1+cell": {
     "cellMetadata": {},
     "inputWidgets": {},
     "nuid": "e586e0cc-b42c-4ace-92ff-d13a93461c55",
     "showTitle": false,
     "title": ""
    }
   },
   "outputs": [
    {
     "output_type": "stream",
     "name": "stdout",
     "output_type": "stream",
     "text": [
      "+--------------------+---------------------+\n|tpep_pickup_datetime|tpep_dropoff_datetime|\n+--------------------+---------------------+\n| 2015-01-02 13:17:09|  2015-01-02 13:15:23|\n| 2015-01-04 01:51:53|  2015-01-04 01:50:28|\n| 2015-01-04 18:33:39|  2015-01-04 18:33:10|\n| 2015-01-05 13:33:38|  2015-01-05 13:33:19|\n| 2015-01-06 12:36:07|  2015-01-06 12:34:37|\n| 2015-01-06 15:34:42|  2015-01-06 15:33:54|\n| 2015-01-06 15:30:24|  2015-01-06 15:30:00|\n| 2015-01-07 10:19:06|  2015-01-07 10:18:42|\n| 2015-01-07 11:45:44|  2015-01-07 11:45:18|\n| 2015-01-07 18:35:05|  2015-01-07 18:33:53|\n| 2015-01-07 21:42:21|  2015-01-07 21:41:04|\n| 2015-01-08 15:10:34|  2015-01-08 15:09:29|\n| 2015-01-08 16:12:59|  2015-01-08 16:12:13|\n| 2015-01-08 19:45:31|  2015-01-08 19:45:00|\n| 2015-01-09 18:26:12|  2015-01-09 18:25:57|\n| 2015-01-09 18:31:01|  2015-01-09 18:30:42|\n| 2015-01-10 15:29:26|  2015-01-10 15:28:05|\n| 2015-01-10 22:54:19|  2015-01-10 22:51:49|\n| 2015-01-11 14:53:24|  2015-01-11 14:52:55|\n| 2015-01-11 16:15:04|  2015-01-11 16:14:37|\n+--------------------+---------------------+\nonly showing top 20 rows\n\n"
     ]
    }
   ],
   "source": [
    "# 1) The Trips finishing before the starting time\n",
    "filter_1 = spark.sql(\"SELECT tpep_pickup_datetime, tpep_dropoff_datetime FROM taxi_y_trips WHERE tpep_pickup_datetime > tpep_dropoff_datetime\")\n",
    "#filter_1 = df_y.filter(df_y['tpep_pickup_datetime'] > df_y['tpep_dropoff_datetime'])\n",
    "#display(filter_1)\n",
    "filter_1.show()"
   ]
  },
  {
   "cell_type": "code",
   "execution_count": 0,
   "metadata": {
    "application/vnd.databricks.v1+cell": {
     "cellMetadata": {},
     "inputWidgets": {},
     "nuid": "23bdc96d-622b-4cc1-a071-11c8a5e9171c",
     "showTitle": false,
     "title": ""
    }
   },
   "outputs": [
    {
     "output_type": "stream",
     "name": "stdout",
     "output_type": "stream",
     "text": [
      "Out[10]: 16036"
     ]
    }
   ],
   "source": [
    "filter_1.count()"
   ]
  },
  {
   "cell_type": "code",
   "execution_count": 0,
   "metadata": {
    "application/vnd.databricks.v1+cell": {
     "cellMetadata": {},
     "inputWidgets": {},
     "nuid": "5779de5e-e139-45c7-96fb-65d770e94c35",
     "showTitle": false,
     "title": ""
    }
   },
   "outputs": [],
   "source": [
    "#Filter 1) out\n",
    "df_y_s = spark.sql(\"SELECT * FROM taxi_y_trips WHERE tpep_pickup_datetime < tpep_dropoff_datetime\")\n",
    "display(df_y_s)"
   ]
  },
  {
   "cell_type": "code",
   "execution_count": 0,
   "metadata": {
    "application/vnd.databricks.v1+cell": {
     "cellMetadata": {},
     "inputWidgets": {},
     "nuid": "995a6665-fa77-433f-bb7e-2d263535f8a5",
     "showTitle": false,
     "title": ""
    }
   },
   "outputs": [
    {
     "output_type": "stream",
     "name": "stdout",
     "output_type": "stream",
     "text": [
      "Out[15]: 132455634"
     ]
    }
   ],
   "source": [
    "df_y_s.count()"
   ]
  },
  {
   "cell_type": "code",
   "execution_count": 0,
   "metadata": {
    "application/vnd.databricks.v1+cell": {
     "cellMetadata": {},
     "inputWidgets": {},
     "nuid": "199d86bf-afc0-4d56-93c0-11a75000c644",
     "showTitle": false,
     "title": ""
    }
   },
   "outputs": [],
   "source": [
    "from pyspark.sql.functions import split, col\n",
    "\n",
    "# Split the lpep_pickup_datetime column into date and time\n",
    "df_y_s = df_y_s.withColumn(\"date_pickup\", split(col(\"tpep_pickup_datetime\"), \"T\").getItem(0))\n",
    "\n",
    "df_y_s = df_y_s.withColumn(\"d_pickup\", split(col(\"date_pickup\"), \" \").getItem(0))\\\n",
    "            .withColumn(\"t_pickup\", split(col(\"date_pickup\"), \" \").getItem(1))\n",
    "df_y_s = df_y_s.drop(\"date_pickup\", \"time_pickup\")\n",
    "display(df_y_s, truncate = False)"
   ]
  },
  {
   "cell_type": "code",
   "execution_count": 0,
   "metadata": {
    "application/vnd.databricks.v1+cell": {
     "cellMetadata": {},
     "inputWidgets": {},
     "nuid": "49630174-4353-444f-8bda-4b1e42845871",
     "showTitle": false,
     "title": ""
    }
   },
   "outputs": [],
   "source": [
    "# Split the timestamp column into date and time\n",
    "df_y_s = df_y_s.withColumn(\"date_dropoff\", split(col(\"tpep_dropoff_datetime\"), \"T\").getItem(0))\n",
    "\n",
    "df_y_s = df_y_s.withColumn(\"d_dropoff\", split(col(\"date_dropoff\"), \" \").getItem(0))\\\n",
    "            .withColumn(\"t_dropoff\", split(col(\"date_dropoff\"), \" \").getItem(1))\n",
    "df_y_s = df_y_s.drop(\"date_dropoff\")\n",
    "display(df_y_s, truncate = False)\n"
   ]
  },
  {
   "cell_type": "code",
   "execution_count": 0,
   "metadata": {
    "application/vnd.databricks.v1+cell": {
     "cellMetadata": {},
     "inputWidgets": {},
     "nuid": "d11d9aee-c3b1-4f35-b546-d59f49bc5c59",
     "showTitle": false,
     "title": ""
    }
   },
   "outputs": [],
   "source": [
    "# 2) Trips where the pickup/dropoff datetime is outside of the range\n",
    "# Skip Filtering out-of-range time. It take a long time to run it and have a same result as a green taxi.\n",
    "#Filter out-of-range date only\n",
    "from pyspark.sql.functions import to_date\n",
    "\n",
    "# Convert the string columns to date \n",
    "df_y_s = df_y_s.withColumn(\"d_pickup\", to_date(df_y_s[\"d_pickup\"], \"yyyy-MM-dd\")) \\\n",
    "               .withColumn(\"d_dropoff\", to_date(df_y_s[\"d_dropoff\"], \"yyyy-MM-dd\"))\n",
    "\n",
    "\n",
    "filter_2 = df_y_s.filter(\n",
    "    (col(\"d_pickup\") < \"2015-01-01\") | \n",
    "    (col(\"d_dropoff\") < \"2015-01-01\")\n",
    ")\n",
    "\n",
    "display(filter_2)\n"
   ]
  },
  {
   "cell_type": "code",
   "execution_count": 0,
   "metadata": {
    "application/vnd.databricks.v1+cell": {
     "cellMetadata": {},
     "inputWidgets": {},
     "nuid": "f548a045-d630-4e00-954d-6b1228d7b6f0",
     "showTitle": false,
     "title": ""
    }
   },
   "outputs": [
    {
     "output_type": "stream",
     "name": "stdout",
     "output_type": "stream",
     "text": [
      "Out[20]: 494"
     ]
    }
   ],
   "source": [
    "#Count Filter_2 row\n",
    "filter_2.count()"
   ]
  },
  {
   "cell_type": "code",
   "execution_count": 0,
   "metadata": {
    "application/vnd.databricks.v1+cell": {
     "cellMetadata": {},
     "inputWidgets": {},
     "nuid": "36c08581-df56-4962-87d5-5176635f6eab",
     "showTitle": false,
     "title": ""
    }
   },
   "outputs": [],
   "source": [
    "#Filter filter_2_2 out\n",
    "df_y_s = df_y_s.filter((col(\"d_pickup\") >= \"2015-01-01\") & (col(\"d_pickup\") <= \"2022-12-31\"))\n",
    "display(df_y_s)"
   ]
  },
  {
   "cell_type": "code",
   "execution_count": 0,
   "metadata": {
    "application/vnd.databricks.v1+cell": {
     "cellMetadata": {},
     "inputWidgets": {},
     "nuid": "61ae637b-ded5-40a6-83c2-e6d8010e05db",
     "showTitle": false,
     "title": ""
    }
   },
   "outputs": [],
   "source": [
    "#Save file #1\n",
    "df_y_s.write.mode(\"overwrite\").parquet(\"/FileStore/tables/df_yellow_cleaned.parquet\")"
   ]
  },
  {
   "cell_type": "code",
   "execution_count": 0,
   "metadata": {
    "application/vnd.databricks.v1+cell": {
     "cellMetadata": {},
     "inputWidgets": {},
     "nuid": "bac29bdc-bdb9-4ef8-9786-cc820dc329c7",
     "showTitle": false,
     "title": ""
    }
   },
   "outputs": [],
   "source": [
    "#Load file #1\n",
    "df_y_s_2 = spark.read.option(\"header\", True).parquet(\"/FileStore/tables/df_yellow_cleaned.parquet\")\n",
    "display(df_y_s_2)"
   ]
  },
  {
   "cell_type": "code",
   "execution_count": 0,
   "metadata": {
    "application/vnd.databricks.v1+cell": {
     "cellMetadata": {},
     "inputWidgets": {},
     "nuid": "b36872e2-2ed0-4664-a8e4-fa12dafe1c0b",
     "showTitle": false,
     "title": ""
    }
   },
   "outputs": [
    {
     "output_type": "stream",
     "name": "stdout",
     "output_type": "stream",
     "text": [
      "Out[27]: 132455132"
     ]
    }
   ],
   "source": [
    "df_y_s_2.count()"
   ]
  },
  {
   "cell_type": "code",
   "execution_count": 0,
   "metadata": {
    "application/vnd.databricks.v1+cell": {
     "cellMetadata": {},
     "inputWidgets": {},
     "nuid": "84c1a806-32ff-4a44-9991-8aceb32abf96",
     "showTitle": false,
     "title": ""
    }
   },
   "outputs": [
    {
     "output_type": "display_data",
     "data": {
      "text/html": [
       "<style scoped>\n",
       "  .table-result-container {\n",
       "    max-height: 300px;\n",
       "    overflow: auto;\n",
       "  }\n",
       "  table, th, td {\n",
       "    border: 1px solid black;\n",
       "    border-collapse: collapse;\n",
       "  }\n",
       "  th, td {\n",
       "    padding: 5px;\n",
       "  }\n",
       "  th {\n",
       "    text-align: left;\n",
       "  }\n",
       "</style><div class='table-result-container'><table class='table-result'><thead style='background-color: white'><tr><th>tpep_pickup_datetime</th><th>tpep_dropoff_datetime</th><th>passenger_count</th><th>trip_distance</th><th>PULocationID</th><th>DOLocationID</th><th>fare_amount</th><th>extra</th><th>mta_tax</th><th>tip_amount</th><th>tolls_amount</th><th>improvement_surcharge</th><th>total_amount</th><th>congestion_surcharge</th><th>airport_fee</th><th>d_pickup</th><th>t_pickup</th><th>d_dropoff</th><th>t_dropoff</th><th>duration_seconds</th><th>duration_hours</th></tr></thead><tbody><tr><td>2021-11-23T19:11:52.000+0000</td><td>2021-11-23T19:23:06.000+0000</td><td>1</td><td>1.54</td><td>68</td><td>114</td><td>8.5</td><td>1</td><td>0.5</td><td>2.56</td><td>0</td><td>0.3</td><td>15.36</td><td>2.5</td><td>0</td><td>2021-11-23</td><td>19:11:52</td><td>2021-11-23</td><td>19:23:06</td><td>674</td><td>0.19</td></tr><tr><td>2021-11-23T19:41:58.000+0000</td><td>2021-11-23T19:48:47.000+0000</td><td>1</td><td>0.93</td><td>170</td><td>233</td><td>6</td><td>1</td><td>0.5</td><td>1</td><td>0</td><td>0.3</td><td>11.3</td><td>2.5</td><td>0</td><td>2021-11-23</td><td>19:41:58</td><td>2021-11-23</td><td>19:48:47</td><td>409</td><td>0.11</td></tr><tr><td>2021-11-23T19:45:35.000+0000</td><td>2021-11-23T19:58:12.000+0000</td><td>1</td><td>1.5</td><td>246</td><td>170</td><td>9.5</td><td>3.5</td><td>0.5</td><td>1</td><td>0</td><td>0.3</td><td>14.8</td><td>2.5</td><td>0</td><td>2021-11-23</td><td>19:45:35</td><td>2021-11-23</td><td>19:58:12</td><td>757</td><td>0.21</td></tr><tr><td>2021-11-23T19:33:08.000+0000</td><td>2021-11-23T19:41:16.000+0000</td><td>1</td><td>1.26</td><td>237</td><td>233</td><td>7.5</td><td>1</td><td>0.5</td><td>2.36</td><td>0</td><td>0.3</td><td>14.16</td><td>2.5</td><td>0</td><td>2021-11-23</td><td>19:33:08</td><td>2021-11-23</td><td>19:41:16</td><td>488</td><td>0.14</td></tr><tr><td>2021-11-23T19:31:15.000+0000</td><td>2021-11-23T19:36:15.000+0000</td><td>1</td><td>0.8</td><td>162</td><td>229</td><td>5.5</td><td>1</td><td>0.5</td><td>0</td><td>0</td><td>0.3</td><td>9.8</td><td>2.5</td><td>0</td><td>2021-11-23</td><td>19:31:15</td><td>2021-11-23</td><td>19:36:15</td><td>300</td><td>0.08</td></tr><tr><td>2021-11-23T19:24:13.000+0000</td><td>2021-11-23T19:29:17.000+0000</td><td>1</td><td>0.72</td><td>186</td><td>246</td><td>5.5</td><td>1</td><td>0.5</td><td>0</td><td>0</td><td>0.3</td><td>9.8</td><td>2.5</td><td>0</td><td>2021-11-23</td><td>19:24:13</td><td>2021-11-23</td><td>19:29:17</td><td>304</td><td>0.08</td></tr><tr><td>2021-11-23T19:42:24.000+0000</td><td>2021-11-23T20:11:21.000+0000</td><td>1</td><td>3.39</td><td>230</td><td>263</td><td>19</td><td>1</td><td>0.5</td><td>5.82</td><td>0</td><td>0.3</td><td>29.12</td><td>2.5</td><td>0</td><td>2021-11-23</td><td>19:42:24</td><td>2021-11-23</td><td>20:11:21</td><td>1737</td><td>0.48</td></tr><tr><td>2021-11-23T19:26:31.000+0000</td><td>2021-11-23T19:44:21.000+0000</td><td>2</td><td>2.4</td><td>170</td><td>142</td><td>12.5</td><td>3.5</td><td>0.5</td><td>1.68</td><td>0</td><td>0.3</td><td>18.48</td><td>2.5</td><td>0</td><td>2021-11-23</td><td>19:26:31</td><td>2021-11-23</td><td>19:44:21</td><td>1070</td><td>0.3</td></tr><tr><td>2021-11-23T19:16:06.000+0000</td><td>2021-11-23T19:53:08.000+0000</td><td>2</td><td>7.8</td><td>88</td><td>100</td><td>31.5</td><td>3.5</td><td>0.5</td><td>0</td><td>0</td><td>0.3</td><td>35.8</td><td>2.5</td><td>0</td><td>2021-11-23</td><td>19:16:06</td><td>2021-11-23</td><td>19:53:08</td><td>2222</td><td>0.62</td></tr><tr><td>2021-11-23T19:11:27.000+0000</td><td>2021-11-23T19:22:35.000+0000</td><td>1</td><td>1.29</td><td>100</td><td>43</td><td>8.5</td><td>1</td><td>0.5</td><td>1.92</td><td>0</td><td>0.3</td><td>14.72</td><td>2.5</td><td>0</td><td>2021-11-23</td><td>19:11:27</td><td>2021-11-23</td><td>19:22:35</td><td>668</td><td>0.19</td></tr></tbody></table></div>"
      ]
     },
     "metadata": {
      "application/vnd.databricks.v1+output": {
       "addedWidgets": {},
       "aggData": [],
       "aggError": "",
       "aggOverflow": false,
       "aggSchema": [],
       "aggSeriesLimitReached": false,
       "aggType": "",
       "arguments": {},
       "columnCustomDisplayInfos": {},
       "data": [
        [
         "2021-11-23T19:11:52.000+0000",
         "2021-11-23T19:23:06.000+0000",
         1,
         1.54,
         68,
         114,
         8.5,
         1,
         0.5,
         2.56,
         0,
         0.3,
         15.36,
         2.5,
         0,
         "2021-11-23",
         "19:11:52",
         "2021-11-23",
         "19:23:06",
         674,
         0.19
        ],
        [
         "2021-11-23T19:41:58.000+0000",
         "2021-11-23T19:48:47.000+0000",
         1,
         0.93,
         170,
         233,
         6,
         1,
         0.5,
         1,
         0,
         0.3,
         11.3,
         2.5,
         0,
         "2021-11-23",
         "19:41:58",
         "2021-11-23",
         "19:48:47",
         409,
         0.11
        ],
        [
         "2021-11-23T19:45:35.000+0000",
         "2021-11-23T19:58:12.000+0000",
         1,
         1.5,
         246,
         170,
         9.5,
         3.5,
         0.5,
         1,
         0,
         0.3,
         14.8,
         2.5,
         0,
         "2021-11-23",
         "19:45:35",
         "2021-11-23",
         "19:58:12",
         757,
         0.21
        ],
        [
         "2021-11-23T19:33:08.000+0000",
         "2021-11-23T19:41:16.000+0000",
         1,
         1.26,
         237,
         233,
         7.5,
         1,
         0.5,
         2.36,
         0,
         0.3,
         14.16,
         2.5,
         0,
         "2021-11-23",
         "19:33:08",
         "2021-11-23",
         "19:41:16",
         488,
         0.14
        ],
        [
         "2021-11-23T19:31:15.000+0000",
         "2021-11-23T19:36:15.000+0000",
         1,
         0.8,
         162,
         229,
         5.5,
         1,
         0.5,
         0,
         0,
         0.3,
         9.8,
         2.5,
         0,
         "2021-11-23",
         "19:31:15",
         "2021-11-23",
         "19:36:15",
         300,
         0.08
        ],
        [
         "2021-11-23T19:24:13.000+0000",
         "2021-11-23T19:29:17.000+0000",
         1,
         0.72,
         186,
         246,
         5.5,
         1,
         0.5,
         0,
         0,
         0.3,
         9.8,
         2.5,
         0,
         "2021-11-23",
         "19:24:13",
         "2021-11-23",
         "19:29:17",
         304,
         0.08
        ],
        [
         "2021-11-23T19:42:24.000+0000",
         "2021-11-23T20:11:21.000+0000",
         1,
         3.39,
         230,
         263,
         19,
         1,
         0.5,
         5.82,
         0,
         0.3,
         29.12,
         2.5,
         0,
         "2021-11-23",
         "19:42:24",
         "2021-11-23",
         "20:11:21",
         1737,
         0.48
        ],
        [
         "2021-11-23T19:26:31.000+0000",
         "2021-11-23T19:44:21.000+0000",
         2,
         2.4,
         170,
         142,
         12.5,
         3.5,
         0.5,
         1.68,
         0,
         0.3,
         18.48,
         2.5,
         0,
         "2021-11-23",
         "19:26:31",
         "2021-11-23",
         "19:44:21",
         1070,
         0.3
        ],
        [
         "2021-11-23T19:16:06.000+0000",
         "2021-11-23T19:53:08.000+0000",
         2,
         7.8,
         88,
         100,
         31.5,
         3.5,
         0.5,
         0,
         0,
         0.3,
         35.8,
         2.5,
         0,
         "2021-11-23",
         "19:16:06",
         "2021-11-23",
         "19:53:08",
         2222,
         0.62
        ],
        [
         "2021-11-23T19:11:27.000+0000",
         "2021-11-23T19:22:35.000+0000",
         1,
         1.29,
         100,
         43,
         8.5,
         1,
         0.5,
         1.92,
         0,
         0.3,
         14.72,
         2.5,
         0,
         "2021-11-23",
         "19:11:27",
         "2021-11-23",
         "19:22:35",
         668,
         0.19
        ]
       ],
       "datasetInfos": [],
       "dbfsResultPath": null,
       "isJsonSchema": true,
       "metadata": {},
       "overflow": false,
       "plotOptions": {
        "customPlotOptions": {},
        "displayType": "table",
        "pivotAggregation": null,
        "pivotColumns": null,
        "xColumns": null,
        "yColumns": null
       },
       "removedWidgets": [],
       "schema": [
        {
         "metadata": "{}",
         "name": "tpep_pickup_datetime",
         "type": "\"timestamp\""
        },
        {
         "metadata": "{}",
         "name": "tpep_dropoff_datetime",
         "type": "\"timestamp\""
        },
        {
         "metadata": "{}",
         "name": "passenger_count",
         "type": "\"double\""
        },
        {
         "metadata": "{}",
         "name": "trip_distance",
         "type": "\"double\""
        },
        {
         "metadata": "{}",
         "name": "PULocationID",
         "type": "\"long\""
        },
        {
         "metadata": "{}",
         "name": "DOLocationID",
         "type": "\"long\""
        },
        {
         "metadata": "{}",
         "name": "fare_amount",
         "type": "\"double\""
        },
        {
         "metadata": "{}",
         "name": "extra",
         "type": "\"double\""
        },
        {
         "metadata": "{}",
         "name": "mta_tax",
         "type": "\"double\""
        },
        {
         "metadata": "{}",
         "name": "tip_amount",
         "type": "\"double\""
        },
        {
         "metadata": "{}",
         "name": "tolls_amount",
         "type": "\"double\""
        },
        {
         "metadata": "{}",
         "name": "improvement_surcharge",
         "type": "\"double\""
        },
        {
         "metadata": "{}",
         "name": "total_amount",
         "type": "\"double\""
        },
        {
         "metadata": "{}",
         "name": "congestion_surcharge",
         "type": "\"double\""
        },
        {
         "metadata": "{}",
         "name": "airport_fee",
         "type": "\"double\""
        },
        {
         "metadata": "{}",
         "name": "d_pickup",
         "type": "\"date\""
        },
        {
         "metadata": "{}",
         "name": "t_pickup",
         "type": "\"string\""
        },
        {
         "metadata": "{}",
         "name": "d_dropoff",
         "type": "\"date\""
        },
        {
         "metadata": "{}",
         "name": "t_dropoff",
         "type": "\"string\""
        },
        {
         "metadata": "{}",
         "name": "duration_seconds",
         "type": "\"long\""
        },
        {
         "metadata": "{}",
         "name": "duration_hours",
         "type": "\"double\""
        }
       ],
       "type": "table"
      }
     },
     "output_type": "display_data"
    }
   ],
   "source": [
    "# 3) Trips with negative speed\n",
    "from pyspark.sql.functions import unix_timestamp, round, col\n",
    "# Calculate duration in seconds by subtracting pickup and dropoff with unix timestamp\n",
    "df_y_s_2 = df_y_s_2.withColumn(\n",
    "    \"duration_seconds\",\n",
    "    unix_timestamp(col(\"tpep_dropoff_datetime\")) - unix_timestamp(col(\"tpep_pickup_datetime\"))\n",
    ")\n",
    "# Convert seconds to hours with 2 decimal points\n",
    "df_y_s_2 = df_y_s_2.withColumn(\n",
    "    \"duration_hours\",\n",
    "    round(col(\"duration_seconds\") / 3600, 2)\n",
    ")\n",
    "\n",
    "\n",
    "display(df_y_s_2.limit(10))"
   ]
  },
  {
   "cell_type": "code",
   "execution_count": 0,
   "metadata": {
    "application/vnd.databricks.v1+cell": {
     "cellMetadata": {},
     "inputWidgets": {},
     "nuid": "b2b98d04-3639-4502-a4d5-567095637ac2",
     "showTitle": false,
     "title": ""
    }
   },
   "outputs": [
    {
     "output_type": "display_data",
     "data": {
      "text/html": [
       "<style scoped>\n",
       "  .table-result-container {\n",
       "    max-height: 300px;\n",
       "    overflow: auto;\n",
       "  }\n",
       "  table, th, td {\n",
       "    border: 1px solid black;\n",
       "    border-collapse: collapse;\n",
       "  }\n",
       "  th, td {\n",
       "    padding: 5px;\n",
       "  }\n",
       "  th {\n",
       "    text-align: left;\n",
       "  }\n",
       "</style><div class='table-result-container'><table class='table-result'><thead style='background-color: white'><tr><th>tpep_pickup_datetime</th><th>tpep_dropoff_datetime</th><th>passenger_count</th><th>trip_distance</th><th>PULocationID</th><th>DOLocationID</th><th>fare_amount</th><th>extra</th><th>mta_tax</th><th>tip_amount</th><th>tolls_amount</th><th>improvement_surcharge</th><th>total_amount</th><th>congestion_surcharge</th><th>airport_fee</th><th>d_pickup</th><th>t_pickup</th><th>d_dropoff</th><th>t_dropoff</th><th>duration_seconds</th><th>duration_hours</th><th>trip_speed</th></tr></thead><tbody><tr><td>2021-11-23T19:11:52.000+0000</td><td>2021-11-23T19:23:06.000+0000</td><td>1</td><td>1.54</td><td>68</td><td>114</td><td>8.5</td><td>1</td><td>0.5</td><td>2.56</td><td>0</td><td>0.3</td><td>15.36</td><td>2.5</td><td>0</td><td>2021-11-23</td><td>19:11:52</td><td>2021-11-23</td><td>19:23:06</td><td>674</td><td>0.19</td><td>8.11</td></tr><tr><td>2021-11-23T19:41:58.000+0000</td><td>2021-11-23T19:48:47.000+0000</td><td>1</td><td>0.93</td><td>170</td><td>233</td><td>6</td><td>1</td><td>0.5</td><td>1</td><td>0</td><td>0.3</td><td>11.3</td><td>2.5</td><td>0</td><td>2021-11-23</td><td>19:41:58</td><td>2021-11-23</td><td>19:48:47</td><td>409</td><td>0.11</td><td>8.45</td></tr><tr><td>2021-11-23T19:45:35.000+0000</td><td>2021-11-23T19:58:12.000+0000</td><td>1</td><td>1.5</td><td>246</td><td>170</td><td>9.5</td><td>3.5</td><td>0.5</td><td>1</td><td>0</td><td>0.3</td><td>14.8</td><td>2.5</td><td>0</td><td>2021-11-23</td><td>19:45:35</td><td>2021-11-23</td><td>19:58:12</td><td>757</td><td>0.21</td><td>7.14</td></tr><tr><td>2021-11-23T19:33:08.000+0000</td><td>2021-11-23T19:41:16.000+0000</td><td>1</td><td>1.26</td><td>237</td><td>233</td><td>7.5</td><td>1</td><td>0.5</td><td>2.36</td><td>0</td><td>0.3</td><td>14.16</td><td>2.5</td><td>0</td><td>2021-11-23</td><td>19:33:08</td><td>2021-11-23</td><td>19:41:16</td><td>488</td><td>0.14</td><td>9</td></tr><tr><td>2021-11-23T19:31:15.000+0000</td><td>2021-11-23T19:36:15.000+0000</td><td>1</td><td>0.8</td><td>162</td><td>229</td><td>5.5</td><td>1</td><td>0.5</td><td>0</td><td>0</td><td>0.3</td><td>9.8</td><td>2.5</td><td>0</td><td>2021-11-23</td><td>19:31:15</td><td>2021-11-23</td><td>19:36:15</td><td>300</td><td>0.08</td><td>10</td></tr><tr><td>2021-11-23T19:24:13.000+0000</td><td>2021-11-23T19:29:17.000+0000</td><td>1</td><td>0.72</td><td>186</td><td>246</td><td>5.5</td><td>1</td><td>0.5</td><td>0</td><td>0</td><td>0.3</td><td>9.8</td><td>2.5</td><td>0</td><td>2021-11-23</td><td>19:24:13</td><td>2021-11-23</td><td>19:29:17</td><td>304</td><td>0.08</td><td>9</td></tr><tr><td>2021-11-23T19:42:24.000+0000</td><td>2021-11-23T20:11:21.000+0000</td><td>1</td><td>3.39</td><td>230</td><td>263</td><td>19</td><td>1</td><td>0.5</td><td>5.82</td><td>0</td><td>0.3</td><td>29.12</td><td>2.5</td><td>0</td><td>2021-11-23</td><td>19:42:24</td><td>2021-11-23</td><td>20:11:21</td><td>1737</td><td>0.48</td><td>7.06</td></tr><tr><td>2021-11-23T19:26:31.000+0000</td><td>2021-11-23T19:44:21.000+0000</td><td>2</td><td>2.4</td><td>170</td><td>142</td><td>12.5</td><td>3.5</td><td>0.5</td><td>1.68</td><td>0</td><td>0.3</td><td>18.48</td><td>2.5</td><td>0</td><td>2021-11-23</td><td>19:26:31</td><td>2021-11-23</td><td>19:44:21</td><td>1070</td><td>0.3</td><td>8</td></tr><tr><td>2021-11-23T19:16:06.000+0000</td><td>2021-11-23T19:53:08.000+0000</td><td>2</td><td>7.8</td><td>88</td><td>100</td><td>31.5</td><td>3.5</td><td>0.5</td><td>0</td><td>0</td><td>0.3</td><td>35.8</td><td>2.5</td><td>0</td><td>2021-11-23</td><td>19:16:06</td><td>2021-11-23</td><td>19:53:08</td><td>2222</td><td>0.62</td><td>12.58</td></tr><tr><td>2021-11-23T19:11:27.000+0000</td><td>2021-11-23T19:22:35.000+0000</td><td>1</td><td>1.29</td><td>100</td><td>43</td><td>8.5</td><td>1</td><td>0.5</td><td>1.92</td><td>0</td><td>0.3</td><td>14.72</td><td>2.5</td><td>0</td><td>2021-11-23</td><td>19:11:27</td><td>2021-11-23</td><td>19:22:35</td><td>668</td><td>0.19</td><td>6.79</td></tr></tbody></table></div>"
      ]
     },
     "metadata": {
      "application/vnd.databricks.v1+output": {
       "addedWidgets": {},
       "aggData": [],
       "aggError": "",
       "aggOverflow": false,
       "aggSchema": [],
       "aggSeriesLimitReached": false,
       "aggType": "",
       "arguments": {},
       "columnCustomDisplayInfos": {},
       "data": [
        [
         "2021-11-23T19:11:52.000+0000",
         "2021-11-23T19:23:06.000+0000",
         1,
         1.54,
         68,
         114,
         8.5,
         1,
         0.5,
         2.56,
         0,
         0.3,
         15.36,
         2.5,
         0,
         "2021-11-23",
         "19:11:52",
         "2021-11-23",
         "19:23:06",
         674,
         0.19,
         8.11
        ],
        [
         "2021-11-23T19:41:58.000+0000",
         "2021-11-23T19:48:47.000+0000",
         1,
         0.93,
         170,
         233,
         6,
         1,
         0.5,
         1,
         0,
         0.3,
         11.3,
         2.5,
         0,
         "2021-11-23",
         "19:41:58",
         "2021-11-23",
         "19:48:47",
         409,
         0.11,
         8.45
        ],
        [
         "2021-11-23T19:45:35.000+0000",
         "2021-11-23T19:58:12.000+0000",
         1,
         1.5,
         246,
         170,
         9.5,
         3.5,
         0.5,
         1,
         0,
         0.3,
         14.8,
         2.5,
         0,
         "2021-11-23",
         "19:45:35",
         "2021-11-23",
         "19:58:12",
         757,
         0.21,
         7.14
        ],
        [
         "2021-11-23T19:33:08.000+0000",
         "2021-11-23T19:41:16.000+0000",
         1,
         1.26,
         237,
         233,
         7.5,
         1,
         0.5,
         2.36,
         0,
         0.3,
         14.16,
         2.5,
         0,
         "2021-11-23",
         "19:33:08",
         "2021-11-23",
         "19:41:16",
         488,
         0.14,
         9
        ],
        [
         "2021-11-23T19:31:15.000+0000",
         "2021-11-23T19:36:15.000+0000",
         1,
         0.8,
         162,
         229,
         5.5,
         1,
         0.5,
         0,
         0,
         0.3,
         9.8,
         2.5,
         0,
         "2021-11-23",
         "19:31:15",
         "2021-11-23",
         "19:36:15",
         300,
         0.08,
         10
        ],
        [
         "2021-11-23T19:24:13.000+0000",
         "2021-11-23T19:29:17.000+0000",
         1,
         0.72,
         186,
         246,
         5.5,
         1,
         0.5,
         0,
         0,
         0.3,
         9.8,
         2.5,
         0,
         "2021-11-23",
         "19:24:13",
         "2021-11-23",
         "19:29:17",
         304,
         0.08,
         9
        ],
        [
         "2021-11-23T19:42:24.000+0000",
         "2021-11-23T20:11:21.000+0000",
         1,
         3.39,
         230,
         263,
         19,
         1,
         0.5,
         5.82,
         0,
         0.3,
         29.12,
         2.5,
         0,
         "2021-11-23",
         "19:42:24",
         "2021-11-23",
         "20:11:21",
         1737,
         0.48,
         7.06
        ],
        [
         "2021-11-23T19:26:31.000+0000",
         "2021-11-23T19:44:21.000+0000",
         2,
         2.4,
         170,
         142,
         12.5,
         3.5,
         0.5,
         1.68,
         0,
         0.3,
         18.48,
         2.5,
         0,
         "2021-11-23",
         "19:26:31",
         "2021-11-23",
         "19:44:21",
         1070,
         0.3,
         8
        ],
        [
         "2021-11-23T19:16:06.000+0000",
         "2021-11-23T19:53:08.000+0000",
         2,
         7.8,
         88,
         100,
         31.5,
         3.5,
         0.5,
         0,
         0,
         0.3,
         35.8,
         2.5,
         0,
         "2021-11-23",
         "19:16:06",
         "2021-11-23",
         "19:53:08",
         2222,
         0.62,
         12.58
        ],
        [
         "2021-11-23T19:11:27.000+0000",
         "2021-11-23T19:22:35.000+0000",
         1,
         1.29,
         100,
         43,
         8.5,
         1,
         0.5,
         1.92,
         0,
         0.3,
         14.72,
         2.5,
         0,
         "2021-11-23",
         "19:11:27",
         "2021-11-23",
         "19:22:35",
         668,
         0.19,
         6.79
        ]
       ],
       "datasetInfos": [],
       "dbfsResultPath": null,
       "isJsonSchema": true,
       "metadata": {},
       "overflow": false,
       "plotOptions": {
        "customPlotOptions": {},
        "displayType": "table",
        "pivotAggregation": null,
        "pivotColumns": null,
        "xColumns": null,
        "yColumns": null
       },
       "removedWidgets": [],
       "schema": [
        {
         "metadata": "{}",
         "name": "tpep_pickup_datetime",
         "type": "\"timestamp\""
        },
        {
         "metadata": "{}",
         "name": "tpep_dropoff_datetime",
         "type": "\"timestamp\""
        },
        {
         "metadata": "{}",
         "name": "passenger_count",
         "type": "\"double\""
        },
        {
         "metadata": "{}",
         "name": "trip_distance",
         "type": "\"double\""
        },
        {
         "metadata": "{}",
         "name": "PULocationID",
         "type": "\"long\""
        },
        {
         "metadata": "{}",
         "name": "DOLocationID",
         "type": "\"long\""
        },
        {
         "metadata": "{}",
         "name": "fare_amount",
         "type": "\"double\""
        },
        {
         "metadata": "{}",
         "name": "extra",
         "type": "\"double\""
        },
        {
         "metadata": "{}",
         "name": "mta_tax",
         "type": "\"double\""
        },
        {
         "metadata": "{}",
         "name": "tip_amount",
         "type": "\"double\""
        },
        {
         "metadata": "{}",
         "name": "tolls_amount",
         "type": "\"double\""
        },
        {
         "metadata": "{}",
         "name": "improvement_surcharge",
         "type": "\"double\""
        },
        {
         "metadata": "{}",
         "name": "total_amount",
         "type": "\"double\""
        },
        {
         "metadata": "{}",
         "name": "congestion_surcharge",
         "type": "\"double\""
        },
        {
         "metadata": "{}",
         "name": "airport_fee",
         "type": "\"double\""
        },
        {
         "metadata": "{}",
         "name": "d_pickup",
         "type": "\"date\""
        },
        {
         "metadata": "{}",
         "name": "t_pickup",
         "type": "\"string\""
        },
        {
         "metadata": "{}",
         "name": "d_dropoff",
         "type": "\"date\""
        },
        {
         "metadata": "{}",
         "name": "t_dropoff",
         "type": "\"string\""
        },
        {
         "metadata": "{}",
         "name": "duration_seconds",
         "type": "\"long\""
        },
        {
         "metadata": "{}",
         "name": "duration_hours",
         "type": "\"double\""
        },
        {
         "metadata": "{}",
         "name": "trip_speed",
         "type": "\"double\""
        }
       ],
       "type": "table"
      }
     },
     "output_type": "display_data"
    }
   ],
   "source": [
    "# Determine Speed of each trip with divided trip_distance by duration_hours\n",
    "df_y_s_2 = df_y_s_2.withColumn(\n",
    "    \"trip_speed\",\n",
    "    round(col(\"trip_distance\") / col(\"duration_hours\"), 2)\n",
    ")\n",
    "\n",
    "display(df_y_s_2.limit(10))"
   ]
  },
  {
   "cell_type": "code",
   "execution_count": 0,
   "metadata": {
    "application/vnd.databricks.v1+cell": {
     "cellMetadata": {},
     "inputWidgets": {},
     "nuid": "eab61318-2435-4fbc-87bd-e109f3b3f6d0",
     "showTitle": false,
     "title": ""
    }
   },
   "outputs": [],
   "source": [
    "#Find any trips with negative speed\n",
    "filter_3 = df_y_s_2.where(\"trip_speed < 0\")\n",
    "display(filter_3)"
   ]
  },
  {
   "cell_type": "code",
   "execution_count": 0,
   "metadata": {
    "application/vnd.databricks.v1+cell": {
     "cellMetadata": {},
     "inputWidgets": {},
     "nuid": "f962417c-cfb4-4721-b5d9-62346965a6b5",
     "showTitle": false,
     "title": ""
    }
   },
   "outputs": [
    {
     "output_type": "stream",
     "name": "stdout",
     "output_type": "stream",
     "text": [
      "Out[33]: 2283"
     ]
    }
   ],
   "source": [
    "# Count the filter_3\n",
    "filter_3.count()"
   ]
  },
  {
   "cell_type": "code",
   "execution_count": 0,
   "metadata": {
    "application/vnd.databricks.v1+cell": {
     "cellMetadata": {},
     "inputWidgets": {},
     "nuid": "d4edfbc4-0a9f-4154-ae6d-d3bd7be2856b",
     "showTitle": false,
     "title": ""
    }
   },
   "outputs": [],
   "source": [
    "#Filter the trips with negative speed out and count the rows have left\n",
    "df_y_s_2 = df_y_s_2.filter(col(\"trip_speed\") >= 0)\n",
    "df_y_s_2.count()"
   ]
  },
  {
   "cell_type": "code",
   "execution_count": 0,
   "metadata": {
    "application/vnd.databricks.v1+cell": {
     "cellMetadata": {},
     "inputWidgets": {},
     "nuid": "b53941a0-61d4-485a-b753-44cb80889a56",
     "showTitle": false,
     "title": ""
    }
   },
   "outputs": [],
   "source": [
    "# 4) Trips with very high speed (look for NYC and outside of NYC speed limit )\n",
    "# NYC has 25 mph speed limit unless otherwise posted and outside NYC is 70 mph.\n",
    "# The trip is speed over 25 mph that have to be filtered out because most of trips are in NYC.\n",
    "filter_4 = df_y_s_2.where((col(\"trip_speed\") > 25))\n",
    "display(filter_4.select(\"PULocationID\",\"DOLocationID\",\"trip_distance\", \"duration_hours\", \"trip_speed\"))"
   ]
  },
  {
   "cell_type": "code",
   "execution_count": 0,
   "metadata": {
    "application/vnd.databricks.v1+cell": {
     "cellMetadata": {},
     "inputWidgets": {},
     "nuid": "8b704629-e575-4224-9ec5-993a9382186b",
     "showTitle": false,
     "title": ""
    }
   },
   "outputs": [
    {
     "output_type": "stream",
     "name": "stdout",
     "output_type": "stream",
     "text": [
      "Out[38]: 5784630"
     ]
    }
   ],
   "source": [
    "filter_4.count()"
   ]
  },
  {
   "cell_type": "code",
   "execution_count": 0,
   "metadata": {
    "application/vnd.databricks.v1+cell": {
     "cellMetadata": {},
     "inputWidgets": {},
     "nuid": "2c8dfc6f-2144-4f82-8686-40e414ec1f98",
     "showTitle": false,
     "title": ""
    }
   },
   "outputs": [
    {
     "output_type": "stream",
     "name": "stdout",
     "output_type": "stream",
     "text": [
      "Out[7]: 125971959"
     ]
    }
   ],
   "source": [
    "#Filter the trips with over speed limit and count the rows have left\n",
    "df_y_s_2 = df_y_s_2.filter((col(\"trip_speed\") < 25) & (col(\"trip_speed\") >= 0))\n",
    "df_y_s_2.count()"
   ]
  },
  {
   "cell_type": "code",
   "execution_count": 0,
   "metadata": {
    "application/vnd.databricks.v1+cell": {
     "cellMetadata": {},
     "inputWidgets": {},
     "nuid": "1937aeb5-936c-4d71-87b1-4e86f024e8f0",
     "showTitle": false,
     "title": ""
    }
   },
   "outputs": [],
   "source": [
    "#Save file #2\n",
    "df_y_s_2.write.option(\"header\", True).mode(\"overwrite\").parquet(\"/FileStore/tables/df_yellow_cleaned.parquet\")"
   ]
  },
  {
   "cell_type": "code",
   "execution_count": 0,
   "metadata": {
    "application/vnd.databricks.v1+cell": {
     "cellMetadata": {},
     "inputWidgets": {},
     "nuid": "648b62fd-4781-458a-940f-07486688f850",
     "showTitle": false,
     "title": ""
    }
   },
   "outputs": [],
   "source": [
    "#Load file #3\n",
    "df_y_s_3 = spark.read.option(\"header\", True).parquet(\"/FileStore/tables/df_yellow_cleaned.parquet\")\n",
    "display(df_y_s_3)"
   ]
  },
  {
   "cell_type": "code",
   "execution_count": 0,
   "metadata": {
    "application/vnd.databricks.v1+cell": {
     "cellMetadata": {},
     "inputWidgets": {},
     "nuid": "fd5108d2-9510-4380-a3f8-be70ab272fbf",
     "showTitle": false,
     "title": ""
    }
   },
   "outputs": [],
   "source": [
    "# 5) Trips that are travelling too short or too long (duration wise)\n",
    "#Find the trips that are too short duration.\n",
    "# Find trips that have duration shorter than 0.02 * 60 = 1.2 minutes\n",
    "filter_5 = df_y_s_3.where(\"duration_hours < 0.02\")\n",
    "display(filter_5.select(\"duration_hours\"))\n",
    "filter_5.count()"
   ]
  },
  {
   "cell_type": "code",
   "execution_count": 0,
   "metadata": {
    "application/vnd.databricks.v1+cell": {
     "cellMetadata": {},
     "inputWidgets": {},
     "nuid": "cc085138-e2ab-4af7-b29a-4930199e80c9",
     "showTitle": false,
     "title": ""
    }
   },
   "outputs": [
    {
     "output_type": "stream",
     "name": "stdout",
     "output_type": "stream",
     "text": [
      "+--------------+\n|duration_hours|\n+--------------+\n|          0.17|\n|          0.16|\n|          0.17|\n|          0.05|\n|          0.09|\n|          0.31|\n|          0.15|\n|          0.11|\n|          0.35|\n|          0.41|\n|           0.1|\n|           0.2|\n|          0.14|\n|          0.41|\n|          0.27|\n|          0.08|\n|          0.14|\n|          0.19|\n|          0.56|\n|          0.18|\n+--------------+\nonly showing top 20 rows\n\n"
     ]
    }
   ],
   "source": [
    "#Filter 5) out\n",
    "from pyspark.sql.functions import col\n",
    "df_y_s_3 = df_y_s_3.filter(col(\"duration_hours\") >= 0.02)\n",
    "df_y_s_3.select(\"duration_hours\").show()"
   ]
  },
  {
   "cell_type": "code",
   "execution_count": 0,
   "metadata": {
    "application/vnd.databricks.v1+cell": {
     "cellMetadata": {},
     "inputWidgets": {},
     "nuid": "e39b60bc-d62f-403c-b785-832d925ad8a4",
     "showTitle": false,
     "title": ""
    }
   },
   "outputs": [],
   "source": [
    "#Find the trips that too long\n",
    "# A driver shift is 12 hours is from the rule. \n",
    "filter_5_1 = df_y_s_3.where(\"duration_hours > 12.00\")\n",
    "display(filter_5_1.select(\"duration_hours\"))\n",
    "filter_5_1.count()"
   ]
  },
  {
   "cell_type": "code",
   "execution_count": 0,
   "metadata": {
    "application/vnd.databricks.v1+cell": {
     "cellMetadata": {},
     "inputWidgets": {},
     "nuid": "3965caed-956a-4f0f-8f47-547302b19b28",
     "showTitle": false,
     "title": ""
    }
   },
   "outputs": [
    {
     "output_type": "stream",
     "name": "stdout",
     "output_type": "stream",
     "text": [
      "+--------------+\n|duration_hours|\n+--------------+\n|          0.17|\n|          0.16|\n|          0.17|\n|          0.05|\n|          0.09|\n|          0.31|\n|          0.15|\n|          0.11|\n|          0.35|\n|          0.41|\n|           0.1|\n|           0.2|\n|          0.14|\n|          0.41|\n|          0.27|\n|          0.08|\n|          0.14|\n|          0.19|\n|          0.56|\n|          0.18|\n+--------------+\nonly showing top 20 rows\n\nOut[85]: 125391473"
     ]
    }
   ],
   "source": [
    "#Filter 5_1 out\n",
    "df_y_s_3 = df_y_s_3.filter(col(\"duration_hours\") <= 12.00)\n",
    "df_y_s_3.select(\"duration_hours\").show()\n",
    "df_y_s_3.count()"
   ]
  },
  {
   "cell_type": "code",
   "execution_count": 0,
   "metadata": {
    "application/vnd.databricks.v1+cell": {
     "cellMetadata": {},
     "inputWidgets": {},
     "nuid": "af3270fb-c35c-4a5c-885b-b932b76b77e2",
     "showTitle": false,
     "title": ""
    }
   },
   "outputs": [
    {
     "output_type": "stream",
     "name": "stdout",
     "output_type": "stream",
     "text": [
      "+------------+------------+-------------+\n|PULocationID|DOLocationID|trip_distance|\n+------------+------------+-------------+\n|         189|         189|          0.0|\n|         193|         193|          0.0|\n|         193|         193|          0.0|\n|         145|         145|          0.0|\n|         140|         140|          0.0|\n|         141|         141|          0.0|\n|          68|         158|          0.0|\n|          68|         246|         0.01|\n|         246|          48|          0.0|\n|         170|         170|         0.03|\n|         166|          24|         0.08|\n|         238|         238|         0.04|\n|         263|         263|          0.0|\n|         113|         113|          0.0|\n|         107|         107|          0.0|\n|         148|         132|          0.0|\n|         164|         164|         0.05|\n|         138|         142|          0.0|\n|         237|         237|          0.0|\n|         233|         162|         0.09|\n+------------+------------+-------------+\nonly showing top 20 rows\n\nOut[86]: 378959"
     ]
    }
   ],
   "source": [
    "# 6) Trips that are travelling too short or too long (distance wise)\n",
    "#Find the trips that are too short\n",
    "#Filter the same Pickup and Dropoff location or distance shorter than 0.1 miles or 0.16 km which is the distance that regular people can walk.\n",
    "filter_6 = df_y_s_3.where((col(\"trip_distance\") < 0.1))\n",
    "filter_6.select(\"PULocationID\", \"DOLocationID\", \"trip_distance\").show()\n",
    "filter_6.count()"
   ]
  },
  {
   "cell_type": "code",
   "execution_count": 0,
   "metadata": {
    "application/vnd.databricks.v1+cell": {
     "cellMetadata": {},
     "inputWidgets": {},
     "nuid": "b492c68a-0882-4463-9a6c-5dac580cffec",
     "showTitle": false,
     "title": ""
    }
   },
   "outputs": [
    {
     "output_type": "stream",
     "name": "stdout",
     "output_type": "stream",
     "text": [
      "+-------------+\n|trip_distance|\n+-------------+\n|          1.0|\n|          0.7|\n|          1.5|\n|         0.71|\n|         1.48|\n|         4.59|\n|          0.8|\n|         0.72|\n|         1.33|\n|         2.38|\n|          1.0|\n|          1.3|\n|          0.4|\n|          3.3|\n|          2.6|\n|         0.75|\n|         1.12|\n|         1.84|\n|          7.6|\n|         0.54|\n+-------------+\nonly showing top 20 rows\n\nOut[87]: 125012514"
     ]
    }
   ],
   "source": [
    "#Filter 6) out\n",
    "df_y_s_3 = df_y_s_3.filter(col(\"trip_distance\") >= 0.1)\n",
    "df_y_s_3.select(\"trip_distance\").show()\n",
    "df_y_s_3.count()"
   ]
  },
  {
   "cell_type": "code",
   "execution_count": 0,
   "metadata": {
    "application/vnd.databricks.v1+cell": {
     "cellMetadata": {},
     "inputWidgets": {},
     "nuid": "ec6c9c58-7d81-4b71-90a5-ae120b775a47",
     "showTitle": false,
     "title": ""
    }
   },
   "outputs": [
    {
     "output_type": "stream",
     "name": "stdout",
     "output_type": "stream",
     "text": [
      "+------------+------------+-------------+\n|PULocationID|DOLocationID|trip_distance|\n+------------+------------+-------------+\n|         230|         132|        58.24|\n|         132|         100|         53.3|\n|         132|         265|        51.75|\n|         132|          28|        54.22|\n|          48|         265|        50.78|\n|          15|          15|        51.71|\n|         100|         265|        50.39|\n|         164|         107|        56.32|\n|          44|         265|        50.38|\n|         132|         265|        54.87|\n|         132|         265|        55.43|\n|         163|          48|         59.6|\n|         186|         100|         90.2|\n|          75|          69|         96.3|\n|         181|         143|         53.6|\n|         152|          17|         66.3|\n|         162|         162|        60.65|\n|          22|         129|         70.3|\n|         162|         162|         62.4|\n|         162|         162|        51.47|\n+------------+------------+-------------+\nonly showing top 20 rows\n\nOut[88]: 497"
     ]
    }
   ],
   "source": [
    "#Find the trips that are too long distance.\n",
    "#Measured the distance from the northest to the southest of NYC is around 50 miles. So, taxi can't commute more than 50 miles\n",
    "#Filter the trip that has the distance more than 50 miles\n",
    "filter_6_1 = df_y_s_3.where((col(\"trip_distance\") > 50))\n",
    "filter_6_1.select(\"PULocationID\", \"DOLocationID\", \"trip_distance\").show()\n",
    "filter_6_1.count()"
   ]
  },
  {
   "cell_type": "code",
   "execution_count": 0,
   "metadata": {
    "application/vnd.databricks.v1+cell": {
     "cellMetadata": {},
     "inputWidgets": {},
     "nuid": "2a35e8ff-770d-48d1-bd9f-f2f59d459749",
     "showTitle": false,
     "title": ""
    }
   },
   "outputs": [
    {
     "output_type": "stream",
     "name": "stdout",
     "output_type": "stream",
     "text": [
      "+-------------+\n|trip_distance|\n+-------------+\n|          1.0|\n|          0.7|\n|          1.5|\n|         0.71|\n|         1.48|\n|         4.59|\n|          0.8|\n|         0.72|\n|         1.33|\n|         2.38|\n|          1.0|\n|          1.3|\n|          0.4|\n|          3.3|\n|          2.6|\n|         0.75|\n|         1.12|\n|         1.84|\n|          7.6|\n|         0.54|\n+-------------+\nonly showing top 20 rows\n\nOut[89]: 125012017"
     ]
    }
   ],
   "source": [
    "#Filter 6_1) out\n",
    "df_y_s_3 = df_y_s_3.filter(col(\"trip_distance\") <= 50)\n",
    "df_y_s_3.select(\"trip_distance\").show()\n",
    "df_y_s_3.count()\n"
   ]
  },
  {
   "cell_type": "code",
   "execution_count": 0,
   "metadata": {
    "application/vnd.databricks.v1+cell": {
     "cellMetadata": {},
     "inputWidgets": {},
     "nuid": "3678e245-4ab4-4b80-8848-c0daced61732",
     "showTitle": false,
     "title": ""
    }
   },
   "outputs": [],
   "source": [
    "#7) Any other logic you think is important\n",
    "#Show the cleaned dataset of yellow taxi so far\n",
    "display(df_y_s_3)\n",
    "df_y_s_3.count()"
   ]
  },
  {
   "cell_type": "code",
   "execution_count": 0,
   "metadata": {
    "application/vnd.databricks.v1+cell": {
     "cellMetadata": {},
     "inputWidgets": {},
     "nuid": "5218680f-2bcf-430b-b5c0-705b2b792e72",
     "showTitle": false,
     "title": ""
    }
   },
   "outputs": [],
   "source": [
    "#Use Spark SQL and create temp view for SQL\n",
    "df_y_s_3.createOrReplaceTempView(\"taxi_y_trips\")"
   ]
  },
  {
   "cell_type": "code",
   "execution_count": 0,
   "metadata": {
    "application/vnd.databricks.v1+cell": {
     "cellMetadata": {},
     "inputWidgets": {},
     "nuid": "b56c3eaa-d5a1-42e5-900c-001272d8412d",
     "showTitle": false,
     "title": ""
    }
   },
   "outputs": [
    {
     "output_type": "stream",
     "name": "stdout",
     "output_type": "stream",
     "text": [
      "+------------+\n|total_amount|\n+------------+\n|        -4.8|\n|        -7.3|\n|        -5.3|\n|        -4.8|\n|        -3.8|\n|        -7.3|\n|        -4.8|\n|       -42.8|\n|        0.31|\n|        -6.8|\n|        -6.8|\n|       -11.3|\n|       -10.8|\n|        -4.8|\n|       -18.3|\n|        -5.8|\n|        -4.3|\n|       -12.8|\n|         0.0|\n|       -27.3|\n+------------+\nonly showing top 20 rows\n\nOut[92]: 122639"
     ]
    }
   ],
   "source": [
    "#Filter the total amount charged to passengers less than 3 because the initial charge of 2015-2022 is $2.50 \n",
    "filter_7_1 = spark.sql(\"SELECT total_amount FROM taxi_y_trips WHERE total_amount < 2.50\")\n",
    "filter_7_1.show()\n",
    "filter_7_1.count()"
   ]
  },
  {
   "cell_type": "code",
   "execution_count": 0,
   "metadata": {
    "application/vnd.databricks.v1+cell": {
     "cellMetadata": {},
     "inputWidgets": {},
     "nuid": "d43f8275-8a97-4b82-bd61-a2258a29241c",
     "showTitle": false,
     "title": ""
    }
   },
   "outputs": [],
   "source": [
    "#Filter 7_1) out\n",
    "df_y_s_3 = df_y_s_3.filter(\"total_amount >= 2.50\")\n",
    "display(df_y_s_3)\n",
    "df_y_s_3.count()"
   ]
  },
  {
   "cell_type": "code",
   "execution_count": 0,
   "metadata": {
    "application/vnd.databricks.v1+cell": {
     "cellMetadata": {},
     "inputWidgets": {},
     "nuid": "a0386f47-f04e-483f-9071-8cdcc6153845",
     "showTitle": false,
     "title": ""
    }
   },
   "outputs": [
    {
     "output_type": "stream",
     "name": "stdout",
     "output_type": "stream",
     "text": [
      "+-------+---------+\n|mta_tax|  numbers|\n+-------+---------+\n|    0.0|   236289|\n|   2.64|        1|\n|    0.5|124663811|\n|   0.85|      498|\n|   0.55|        1|\n|    3.0|        4|\n|   -0.5|   109532|\n|   1.03|       17|\n|    3.3|       23|\n|  18.49|        1|\n|   0.35|       15|\n|   2.74|        1|\n|   2.55|        1|\n|   48.4|        1|\n|   59.3|        1|\n|    0.8|     1472|\n|   2.54|       98|\n|   0.68|        1|\n|    1.3|       60|\n|    1.5|       18|\n+-------+---------+\nonly showing top 20 rows\n\n"
     ]
    }
   ],
   "source": [
    "#Show the value of each MTA tax\n",
    "filter_7_2 = spark.sql(\"SELECT mta_tax, COUNT(*) AS numbers FROM taxi_y_trips GROUP BY mta_tax \")\n",
    "filter_7_2.show()"
   ]
  },
  {
   "cell_type": "code",
   "execution_count": 0,
   "metadata": {
    "application/vnd.databricks.v1+cell": {
     "cellMetadata": {},
     "inputWidgets": {},
     "nuid": "e10d71be-20e5-42d1-8955-190dde49bd4e",
     "showTitle": false,
     "title": ""
    }
   },
   "outputs": [],
   "source": [
    "#Filter the MTA tax that is not 0.5 and 0 out because $0.5 MTA tax is applied to trips inside Manhattan, Other trip outside Manhattan MTA tax is not applied.\n",
    "df_y_s_3 = df_y_s_3.filter((col(\"mta_tax\") == 0) | (col(\"mta_tax\") == 0.5))\n",
    "display(df_y_s_3)\n",
    "df_y_s_3.count()"
   ]
  },
  {
   "cell_type": "code",
   "execution_count": 0,
   "metadata": {
    "application/vnd.databricks.v1+cell": {
     "cellMetadata": {},
     "inputWidgets": {},
     "nuid": "38a6910c-2270-4643-843c-a80d90a483b1",
     "showTitle": false,
     "title": ""
    }
   },
   "outputs": [
    {
     "output_type": "stream",
     "name": "stdout",
     "output_type": "stream",
     "text": [
      "+-----+--------+\n|extra| numbers|\n+-----+--------+\n|  0.0|60700981|\n|  1.0|18679901|\n|  0.5|35191976|\n+-----+--------+\n\n"
     ]
    }
   ],
   "source": [
    "#Filter the extra that occur when trips are driving in rush hour or overnight. \n",
    "filter_7_3 = spark.sql(\"SELECT extra, COUNT(*) AS numbers FROM taxi_y_trips WHERE extra IN (0, 0.5, 1) GROUP BY extra\")\n",
    "filter_7_3.show()"
   ]
  },
  {
   "cell_type": "code",
   "execution_count": 0,
   "metadata": {
    "application/vnd.databricks.v1+cell": {
     "cellMetadata": {},
     "inputWidgets": {},
     "nuid": "f360f657-fd81-455e-89c8-b4902726a8e9",
     "showTitle": false,
     "title": ""
    }
   },
   "outputs": [],
   "source": [
    "#Filter 7_3) out\n",
    "df_y_s_3 = df_y_s_3.filter((col(\"extra\") == 0) | (col(\"extra\") == 0.5) | (col(\"extra\") == 1.0))\n",
    "display(df_y_s_3)\n",
    "df_y_s_3.count()"
   ]
  },
  {
   "cell_type": "code",
   "execution_count": 0,
   "metadata": {
    "application/vnd.databricks.v1+cell": {
     "cellMetadata": {},
     "inputWidgets": {},
     "nuid": "c548c0e6-a687-4c5a-8d57-7fdb1a9c55d9",
     "showTitle": false,
     "title": ""
    }
   },
   "outputs": [
    {
     "output_type": "stream",
     "name": "stdout",
     "output_type": "stream",
     "text": [
      "+---------------------+---------+\n|improvement_surcharge|  numbers|\n+---------------------+---------+\n|                  0.0|   140451|\n|                 -0.3|   107378|\n|                  0.3|124552558|\n|                 -1.0|     1644|\n|                  1.0|   209982|\n|                  0.6|        2|\n|                 0.03|        1|\n|                 0.45|        1|\n+---------------------+---------+\n\n"
     ]
    }
   ],
   "source": [
    "#Find improvement surcharge how much of each trip.\n",
    "filter_7_4 = spark.sql(\"SELECT improvement_surcharge, COUNT(*) AS numbers FROM taxi_y_trips GROUP BY improvement_surcharge\")\n",
    "filter_7_4.show()"
   ]
  },
  {
   "cell_type": "code",
   "execution_count": 0,
   "metadata": {
    "application/vnd.databricks.v1+cell": {
     "cellMetadata": {},
     "inputWidgets": {},
     "nuid": "00855b3f-9917-4b9c-9fcb-b2d399d3b5ed",
     "showTitle": false,
     "title": ""
    }
   },
   "outputs": [],
   "source": [
    "#Filter 7_4) only improvement surcharge = 0.3\n",
    "df_y_s_3 = df_y_s_3.filter((col(\"Improvement_surcharge\") == 0.3))\n",
    "display(df_y_s_3)\n",
    "df_y_s_3.count()"
   ]
  },
  {
   "cell_type": "code",
   "execution_count": 0,
   "metadata": {
    "application/vnd.databricks.v1+cell": {
     "cellMetadata": {},
     "inputWidgets": {},
     "nuid": "e24ff1e6-b76e-4b37-a485-657fb0a04c82",
     "showTitle": false,
     "title": ""
    }
   },
   "outputs": [
    {
     "output_type": "stream",
     "name": "stdout",
     "output_type": "stream",
     "text": [
      "+-----------+-------+\n|fare_amount|numbers|\n+-----------+-------+\n|       -5.5|   7901|\n|      -1.36|      1|\n|      -14.5|    872|\n|      -1.55|     19|\n|      -58.0|      8|\n|      -52.0|   2323|\n|      -30.5|    132|\n|     -10.64|      1|\n|       -5.0|   9967|\n|      -19.8|     24|\n|      -18.0|    464|\n|      -32.5|     79|\n|      -29.0|    140|\n|      -50.0|     58|\n|      -34.5|    100|\n|     -34.11|      1|\n|     -26.78|      1|\n|      -42.0|     66|\n|      -5.05|     13|\n|     -12.05|      6|\n+-----------+-------+\nonly showing top 20 rows\n\n"
     ]
    }
   ],
   "source": [
    "#Filter the negative value of fare_amount, tip_amount, tolls_amount\n",
    "filter_7_5 = spark.sql(\"SELECT fare_amount, count(*) AS numbers FROM taxi_y_trips where fare_amount < 0 GROUP BY fare_amount \")\n",
    "filter_7_5.show()"
   ]
  },
  {
   "cell_type": "code",
   "execution_count": 0,
   "metadata": {
    "application/vnd.databricks.v1+cell": {
     "cellMetadata": {},
     "inputWidgets": {},
     "nuid": "2a8565f0-f056-4c45-b2e0-6ef9c06bd472",
     "showTitle": false,
     "title": ""
    }
   },
   "outputs": [
    {
     "output_type": "stream",
     "name": "stdout",
     "output_type": "stream",
     "text": [
      "+----------+-------+\n|tip_amount|numbers|\n+----------+-------+\n|     -1.36|     12|\n|     -5.53|      1|\n|    -11.06|      5|\n|      -1.0|     34|\n|    -26.39|      1|\n|     -24.5|      1|\n|     -2.16|      2|\n|     -1.76|      8|\n|    -32.38|      1|\n|     -1.46|     13|\n|     -2.45|      3|\n|     -0.76|      1|\n|     -1.66|     15|\n|    -36.85|      1|\n|     -15.5|      1|\n|     -2.26|      5|\n|    -54.19|      1|\n|    -12.31|      1|\n|     -14.0|      3|\n|      -3.2|      2|\n+----------+-------+\nonly showing top 20 rows\n\n"
     ]
    }
   ],
   "source": [
    "filter_7_6 = spark.sql(\"SELECT tip_amount, count(*) AS numbers FROM taxi_y_trips where tip_amount < 0 GROUP BY tip_amount \")\n",
    "filter_7_6.show()"
   ]
  },
  {
   "cell_type": "code",
   "execution_count": 0,
   "metadata": {
    "application/vnd.databricks.v1+cell": {
     "cellMetadata": {},
     "inputWidgets": {},
     "nuid": "46133341-3b27-4b68-9e73-836043a6598f",
     "showTitle": false,
     "title": ""
    }
   },
   "outputs": [
    {
     "output_type": "stream",
     "name": "stdout",
     "output_type": "stream",
     "text": [
      "+------------+-------+\n|tolls_amount|numbers|\n+------------+-------+\n|       -27.5|      2|\n|      -13.75|     25|\n|        -3.0|     12|\n|        -2.8|      8|\n|       -6.55|   1427|\n|       -30.0|      1|\n|      -11.75|     29|\n|       -6.12|    467|\n|       -2.45|      4|\n|       -10.5|     18|\n|      -10.17|      5|\n|       -5.76|     72|\n|        -5.0|      5|\n|      -20.05|      1|\n|       -22.0|      3|\n|       -12.5|     11|\n|      -16.11|      1|\n|      -10.62|      1|\n|      -27.75|      1|\n|        -8.5|      1|\n+------------+-------+\nonly showing top 20 rows\n\n"
     ]
    }
   ],
   "source": [
    "filter_7_7 = spark.sql(\"SELECT tolls_amount, count(*) AS numbers FROM taxi_y_trips where tolls_amount < 0 GROUP BY tolls_amount \")\n",
    "filter_7_7.show()"
   ]
  },
  {
   "cell_type": "code",
   "execution_count": 0,
   "metadata": {
    "application/vnd.databricks.v1+cell": {
     "cellMetadata": {},
     "inputWidgets": {},
     "nuid": "5e3772e3-cc1b-4fc0-97e2-9f1903635f2c",
     "showTitle": false,
     "title": ""
    }
   },
   "outputs": [],
   "source": [
    "#Filter 7_5, 7_6 and 7_7 out\n",
    "df_y_s_3 = df_y_s_3.filter((col(\"fare_amount\") >= 0) & (col(\"tolls_amount\") >= 0) & (col(\"tip_amount\") >= 0))\n",
    "display(df_y_s_3)\n",
    "df_y_s_3.count()"
   ]
  },
  {
   "cell_type": "code",
   "execution_count": 0,
   "metadata": {
    "application/vnd.databricks.v1+cell": {
     "cellMetadata": {},
     "inputWidgets": {},
     "nuid": "a309cf8d-6708-4e08-9157-7d25c1ee1251",
     "showTitle": false,
     "title": ""
    }
   },
   "outputs": [
    {
     "output_type": "stream",
     "name": "stdout",
     "output_type": "stream",
     "text": [
      "+---------------+--------+\n|passenger_count| numbers|\n+---------------+--------+\n|            8.0|      53|\n|            0.0|  860375|\n|            7.0|     109|\n|           null|  690632|\n|            1.0|88461639|\n|            4.0| 2465036|\n|            3.0| 5186896|\n|            2.0|18210247|\n|            6.0| 3521381|\n|            5.0| 5615569|\n|            9.0|      80|\n+---------------+--------+\n\n"
     ]
    }
   ],
   "source": [
    "#Find the impossible passenger count\n",
    "filter_7_8 = spark.sql(\"SELECT passenger_count, count(*) AS numbers FROM taxi_y_trips GROUP BY passenger_count \")\n",
    "filter_7_8.show()"
   ]
  },
  {
   "cell_type": "code",
   "execution_count": 0,
   "metadata": {
    "application/vnd.databricks.v1+cell": {
     "cellMetadata": {},
     "inputWidgets": {},
     "nuid": "e891e727-d19f-40ea-b680-7a4226155b98",
     "showTitle": false,
     "title": ""
    }
   },
   "outputs": [],
   "source": [
    "#Filter out the passenger count more than 5 passengers and 0 passenger because The maximum amount of passengers are allowed in a taxicab by law is four in a four passenger taxicab or five passengers in a five passenger taxicab.\n",
    "df_y_s_3 = df_y_s_3.filter((col(\"passenger_count\") <= 5) & (col(\"passenger_count\") > 0))\n",
    "display(df_y_s_3)\n",
    "df_y_s_3.count()"
   ]
  },
  {
   "cell_type": "code",
   "execution_count": 0,
   "metadata": {
    "application/vnd.databricks.v1+cell": {
     "cellMetadata": {},
     "inputWidgets": {},
     "nuid": "a6167688-ca33-4c23-ae96-c93293d08719",
     "showTitle": false,
     "title": ""
    }
   },
   "outputs": [
    {
     "output_type": "stream",
     "name": "stdout",
     "output_type": "stream",
     "text": [
      "+--------------------+--------+\n|congestion_surcharge| numbers|\n+--------------------+--------+\n|                 0.0| 2407020|\n|                null|93023983|\n|                 2.5|29501340|\n|                 0.5|       7|\n|                0.75|     264|\n|                2.75|     142|\n|                -2.5|   79253|\n|                 1.5|       1|\n|                -1.5|       1|\n|               -0.75|       2|\n|                 1.0|       2|\n|                 2.0|       2|\n+--------------------+--------+\n\n"
     ]
    }
   ],
   "source": [
    "#Show the value of congestion \n",
    "filter_7_9 = spark.sql(\"SELECT congestion_surcharge, count(*) AS numbers FROM taxi_y_trips GROUP BY congestion_surcharge \")\n",
    "filter_7_9.show()"
   ]
  },
  {
   "cell_type": "code",
   "execution_count": 0,
   "metadata": {
    "application/vnd.databricks.v1+cell": {
     "cellMetadata": {},
     "inputWidgets": {},
     "nuid": "f094ed6d-27b5-47a4-a251-74fc50e1e9e0",
     "showTitle": false,
     "title": ""
    }
   },
   "outputs": [],
   "source": [
    "#Filter only 0, 2.5 and null values\n",
    "df_y_s_3 = df_y_s_3.filter((col(\"congestion_surcharge\").isNull()) | (col(\"congestion_surcharge\") == 0) | (col(\"congestion_surcharge\") == 2.5))\n",
    "display(df_y_s_3)\n",
    "df_y_s_3.count()"
   ]
  },
  {
   "cell_type": "code",
   "execution_count": 0,
   "metadata": {
    "application/vnd.databricks.v1+cell": {
     "cellMetadata": {},
     "inputWidgets": {},
     "nuid": "b23ba959-8c8f-4656-ab84-54c83fc74ca8",
     "showTitle": false,
     "title": ""
    }
   },
   "outputs": [
    {
     "output_type": "stream",
     "name": "stdout",
     "output_type": "stream",
     "text": [
      "+-----------+---------+\n|airport_fee|  numbers|\n+-----------+---------+\n|        0.0| 11289757|\n|       1.25|   503468|\n|       null|113216115|\n|      -1.25|     2677|\n+-----------+---------+\n\n"
     ]
    }
   ],
   "source": [
    "filter_7_10 = spark.sql(\"SELECT airport_fee, count(*) AS numbers FROM taxi_y_trips GROUP BY airport_fee \")\n",
    "filter_7_10.show()"
   ]
  },
  {
   "cell_type": "code",
   "execution_count": 0,
   "metadata": {
    "application/vnd.databricks.v1+cell": {
     "cellMetadata": {},
     "inputWidgets": {},
     "nuid": "be22e172-f55b-452a-bf4d-a63d1d031780",
     "showTitle": false,
     "title": ""
    }
   },
   "outputs": [],
   "source": [
    "#Filter only 0, 1.25 and null values\n",
    "df_y_s_3 = df_y_s_3.filter((col(\"airport_fee\").isNull()) | (col(\"airport_fee\") == 0) | (col(\"airport_fee\") == 1.25))\n",
    "display(df_y_s_3)\n",
    "df_y_s_3.count()"
   ]
  },
  {
   "cell_type": "code",
   "execution_count": 0,
   "metadata": {
    "application/vnd.databricks.v1+cell": {
     "cellMetadata": {},
     "inputWidgets": {},
     "nuid": "8059e6ab-6c5e-4a29-bd9c-43805fa32c57",
     "showTitle": false,
     "title": ""
    }
   },
   "outputs": [],
   "source": [
    "#Drop some unused columns\n",
    "df_y_s_3 = df_y_s_3.drop(\"tpep_pickup_datetime\", \"tpep_dropoff_datetime\", \"duration_seconds\")\n",
    "#The final of yellow taxi dataframe\n",
    "display(df_y_s_3)"
   ]
  },
  {
   "cell_type": "code",
   "execution_count": 0,
   "metadata": {
    "application/vnd.databricks.v1+cell": {
     "cellMetadata": {},
     "inputWidgets": {},
     "nuid": "197e29c5-b271-4272-8273-876d4b6424cb",
     "showTitle": false,
     "title": ""
    }
   },
   "outputs": [],
   "source": [
    "df_y_s_3.write.mode(\"overwrite\").parquet(\"/FileStore/tables/df_yellow_cleaned.parquet\")"
   ]
  },
  {
   "cell_type": "code",
   "execution_count": 0,
   "metadata": {
    "application/vnd.databricks.v1+cell": {
     "cellMetadata": {},
     "inputWidgets": {},
     "nuid": "6aab4d7b-717a-4d96-99fc-ea2f1e45c35c",
     "showTitle": false,
     "title": ""
    }
   },
   "outputs": [],
   "source": [
    "df_y_s_cleaned = spark.read.option(\"header\", True).parquet(\"/FileStore/tables/df_yellow_cleaned.parquet\")\n",
    "display(df_y_s_cleaned)\n",
    "df_y_s_cleaned.count()"
   ]
  }
 ],
 "metadata": {
  "application/vnd.databricks.v1+notebook": {
   "dashboards": [],
   "environmentMetadata": null,
   "language": "python",
   "notebookMetadata": {
    "pythonIndentUnit": 4
   },
   "notebookName": "bde-assignment-2-part-1_2",
   "widgets": {}
  }
 },
 "nbformat": 4,
 "nbformat_minor": 0
}
