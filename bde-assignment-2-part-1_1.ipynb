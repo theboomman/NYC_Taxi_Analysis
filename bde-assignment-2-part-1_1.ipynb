{
 "cells": [
  {
   "cell_type": "markdown",
   "metadata": {
    "application/vnd.databricks.v1+cell": {
     "cellMetadata": {},
     "inputWidgets": {},
     "nuid": "b58b0f30-34e1-4f4f-8b8e-f7a27cc5154c",
     "showTitle": false,
     "title": ""
    }
   },
   "source": [
    "##Part 1 - Data Ingestion and Preparation"
   ]
  },
  {
   "cell_type": "markdown",
   "metadata": {
    "application/vnd.databricks.v1+cell": {
     "cellMetadata": {
      "byteLimit": 2048000,
      "rowLimit": 10000
     },
     "inputWidgets": {},
     "nuid": "c2e2b654-48ac-4718-a41b-3ac1f92bb60a",
     "showTitle": false,
     "title": ""
    }
   },
   "source": [
    "1. Create 3 variables"
   ]
  },
  {
   "cell_type": "code",
   "execution_count": 0,
   "metadata": {
    "application/vnd.databricks.v1+cell": {
     "cellMetadata": {
      "byteLimit": 2048000,
      "rowLimit": 10000
     },
     "inputWidgets": {},
     "nuid": "1f41a08d-a1be-4444-b924-459616ce4562",
     "showTitle": false,
     "title": ""
    }
   },
   "outputs": [],
   "source": [
    "storage_account_name = \"boompeeranont\"\n",
    "storage_account_access_key = \"upBPWiJll16gB28tjwWJghsZ79c5omrg0ewjk43EvvUtQGmoeeovplr+K15cHyn4nsWnKo7p54ib+AStw7lWbg==\"\n",
    "blob_container_name = \"dummy-1\""
   ]
  },
  {
   "cell_type": "markdown",
   "metadata": {
    "application/vnd.databricks.v1+cell": {
     "cellMetadata": {
      "byteLimit": 2048000,
      "rowLimit": 10000
     },
     "inputWidgets": {},
     "nuid": "5889e88e-2068-4235-858d-6db1e7ca603e",
     "showTitle": false,
     "title": ""
    }
   },
   "source": [
    "2. Mount the Blob container to the DBFS"
   ]
  },
  {
   "cell_type": "code",
   "execution_count": 0,
   "metadata": {
    "application/vnd.databricks.v1+cell": {
     "cellMetadata": {
      "byteLimit": 2048000,
      "rowLimit": 10000
     },
     "inputWidgets": {},
     "nuid": "15aeecbe-7e59-4941-84f9-a29560513b62",
     "showTitle": false,
     "title": ""
    }
   },
   "outputs": [],
   "source": [
    "dbutils.fs.mount(\n",
    "  source = f'wasbs://{blob_container_name}@{storage_account_name}.blob.core.windows.net',\n",
    "  mount_point = f'/mnt/{blob_container_name}/',\n",
    "  extra_configs = {'fs.azure.account.key.' + storage_account_name + '.blob.core.windows.net': storage_account_access_key}\n",
    ")"
   ]
  },
  {
   "cell_type": "markdown",
   "metadata": {
    "application/vnd.databricks.v1+cell": {
     "cellMetadata": {
      "byteLimit": 2048000,
      "rowLimit": 10000
     },
     "inputWidgets": {},
     "nuid": "dc86d6a0-d156-44f9-b500-2c4ac3d16c94",
     "showTitle": false,
     "title": ""
    }
   },
   "source": [
    "3. Make the list of files inside the blob"
   ]
  },
  {
   "cell_type": "code",
   "execution_count": 0,
   "metadata": {
    "application/vnd.databricks.v1+cell": {
     "cellMetadata": {
      "byteLimit": 2048000,
      "rowLimit": 10000
     },
     "inputWidgets": {},
     "nuid": "27556623-eba8-4fdf-aa38-09938afea25e",
     "showTitle": false,
     "title": ""
    }
   },
   "outputs": [],
   "source": [
    "dbutils.fs.ls(\"/mnt/dummy-1/\")\n"
   ]
  },
  {
   "cell_type": "markdown",
   "metadata": {
    "application/vnd.databricks.v1+cell": {
     "cellMetadata": {
      "byteLimit": 2048000,
      "rowLimit": 10000
     },
     "inputWidgets": {},
     "nuid": "d9a0c992-0fe9-4d20-aa79-afb4eec4d0e2",
     "showTitle": false,
     "title": ""
    }
   },
   "source": [
    "4. Read the dataset"
   ]
  },
  {
   "cell_type": "code",
   "execution_count": 0,
   "metadata": {
    "application/vnd.databricks.v1+cell": {
     "cellMetadata": {
      "byteLimit": 2048000,
      "rowLimit": 10000
     },
     "inputWidgets": {},
     "nuid": "5a8a9861-8e87-4d6f-8278-0eb5b3288ce1",
     "showTitle": false,
     "title": ""
    }
   },
   "outputs": [],
   "source": [
    "#Read the Green taxi dataset\n",
    "df_g = spark.read.option(\"header\", True).parquet(\"/mnt/dummy-1/green_taxi*\")\n",
    "display(df_g)"
   ]
  },
  {
   "cell_type": "code",
   "execution_count": 0,
   "metadata": {
    "application/vnd.databricks.v1+cell": {
     "cellMetadata": {
      "byteLimit": 2048000,
      "rowLimit": 10000
     },
     "inputWidgets": {},
     "nuid": "94c44ea2-b357-488c-bc06-d99a85d44a57",
     "showTitle": false,
     "title": ""
    }
   },
   "outputs": [],
   "source": [
    "#Read the Yellow taxi dataset\n",
    "df_y = spark.read.option(\"header\", True).parquet(\"/mnt/dummy-1/yellow_taxi*\")\n",
    "display(df_y)"
   ]
  },
  {
   "cell_type": "code",
   "execution_count": 0,
   "metadata": {
    "application/vnd.databricks.v1+cell": {
     "cellMetadata": {
      "byteLimit": 2048000,
      "rowLimit": 10000
     },
     "inputWidgets": {},
     "nuid": "a2f1117d-b08b-4c64-8379-95f15d256109",
     "showTitle": false,
     "title": ""
    }
   },
   "outputs": [],
   "source": [
    "df_g.printSchema()"
   ]
  },
  {
   "cell_type": "code",
   "execution_count": 0,
   "metadata": {
    "application/vnd.databricks.v1+cell": {
     "cellMetadata": {
      "byteLimit": 2048000,
      "rowLimit": 10000
     },
     "inputWidgets": {},
     "nuid": "d8a8262c-2ec0-42c3-9b38-6aa0757aab14",
     "showTitle": false,
     "title": ""
    }
   },
   "outputs": [],
   "source": [
    "df_y.printSchema()"
   ]
  },
  {
   "cell_type": "code",
   "execution_count": 0,
   "metadata": {
    "application/vnd.databricks.v1+cell": {
     "cellMetadata": {
      "byteLimit": 2048000,
      "rowLimit": 10000
     },
     "inputWidgets": {},
     "nuid": "c5e7c39d-5485-431d-a418-caa7c53c5a9e",
     "showTitle": false,
     "title": ""
    }
   },
   "outputs": [],
   "source": [
    "#count row of Green and Yellow dataset\n",
    "print(\"Green taxi row count:\",df_g.count())\n",
    "print(\"Yellow taxi row count:\",df_y.count())"
   ]
  },
  {
   "cell_type": "code",
   "execution_count": 0,
   "metadata": {
    "application/vnd.databricks.v1+cell": {
     "cellMetadata": {
      "byteLimit": 2048000,
      "rowLimit": 10000
     },
     "inputWidgets": {},
     "nuid": "5925d644-6d23-4404-96e4-a7e347fdc9c3",
     "showTitle": false,
     "title": ""
    }
   },
   "outputs": [],
   "source": [
    "#Convert the green taxi 2015 from parquet to csv\n",
    "#df_g_2015 = spark.read.parquet(\"/mnt/dummy-1/green_taxi_2015.parquet\")\n",
    "df_g_2015.write.mode(\"overwrite\").option(\"header\", True).csv(\"/mnt/dummy-1/csv_2015\")"
   ]
  },
  {
   "cell_type": "markdown",
   "metadata": {
    "application/vnd.databricks.v1+cell": {
     "cellMetadata": {
      "byteLimit": 2048000,
      "rowLimit": 10000
     },
     "inputWidgets": {},
     "nuid": "5c807e93-8102-46ae-984e-4b5be3d80ccb",
     "showTitle": false,
     "title": ""
    }
   },
   "source": [
    "5. Cleaning the dataset"
   ]
  },
  {
   "cell_type": "markdown",
   "metadata": {
    "application/vnd.databricks.v1+cell": {
     "cellMetadata": {
      "byteLimit": 2048000,
      "rowLimit": 10000
     },
     "inputWidgets": {},
     "nuid": "35977a74-135e-43a4-ad8b-30ef04c0df2e",
     "showTitle": false,
     "title": ""
    }
   },
   "source": [
    "5.1 Green Taxi"
   ]
  },
  {
   "cell_type": "code",
   "execution_count": 0,
   "metadata": {
    "application/vnd.databricks.v1+cell": {
     "cellMetadata": {
      "byteLimit": 2048000,
      "rowLimit": 10000
     },
     "inputWidgets": {},
     "nuid": "f444da02-ced6-44aa-8882-7b22ce72c4e8",
     "showTitle": false,
     "title": ""
    }
   },
   "outputs": [],
   "source": [
    "#Explore the dataset\n",
    "display(df_g)"
   ]
  },
  {
   "cell_type": "code",
   "execution_count": 0,
   "metadata": {
    "application/vnd.databricks.v1+cell": {
     "cellMetadata": {
      "byteLimit": 2048000,
      "rowLimit": 10000
     },
     "inputWidgets": {},
     "nuid": "334d63df-d648-4af2-a9eb-81f74a4f15df",
     "showTitle": false,
     "title": ""
    }
   },
   "outputs": [],
   "source": [
    "print((df_g.count(), len(df_g.columns)))"
   ]
  },
  {
   "cell_type": "code",
   "execution_count": 0,
   "metadata": {
    "application/vnd.databricks.v1+cell": {
     "cellMetadata": {
      "byteLimit": 2048000,
      "rowLimit": 10000
     },
     "inputWidgets": {},
     "nuid": "f9ab52a9-4f80-4aaa-bb1a-0b59220df1ef",
     "showTitle": false,
     "title": ""
    }
   },
   "outputs": [],
   "source": [
    "import pyspark.sql.functions as F"
   ]
  },
  {
   "cell_type": "code",
   "execution_count": 0,
   "metadata": {
    "application/vnd.databricks.v1+cell": {
     "cellMetadata": {
      "byteLimit": 2048000,
      "rowLimit": 10000
     },
     "inputWidgets": {},
     "nuid": "b3e0be4d-4d51-4248-a3ac-f481fa05b3ba",
     "showTitle": false,
     "title": ""
    }
   },
   "outputs": [],
   "source": [
    "df_g.printSchema()"
   ]
  },
  {
   "cell_type": "code",
   "execution_count": 0,
   "metadata": {
    "application/vnd.databricks.v1+cell": {
     "cellMetadata": {
      "byteLimit": 2048000,
      "rowLimit": 10000
     },
     "inputWidgets": {},
     "nuid": "c18912d1-df0d-4a4a-bda2-dc2cb707fa77",
     "showTitle": false,
     "title": ""
    }
   },
   "outputs": [],
   "source": [
    "#1) The Trips finishing before the starting time\n",
    "filter_1 = df_g.filter(df_g['lpep_pickup_datetime'] > df_g['lpep_dropoff_datetime'])\n",
    "display(filter_1)"
   ]
  },
  {
   "cell_type": "code",
   "execution_count": 0,
   "metadata": {
    "application/vnd.databricks.v1+cell": {
     "cellMetadata": {
      "byteLimit": 2048000,
      "rowLimit": 10000
     },
     "inputWidgets": {},
     "nuid": "129097fc-4b0d-439a-8d59-9ae8314a7ead",
     "showTitle": false,
     "title": ""
    }
   },
   "outputs": [],
   "source": [
    "#Count filter 1\n",
    "filter_1.count()"
   ]
  },
  {
   "cell_type": "code",
   "execution_count": 0,
   "metadata": {
    "application/vnd.databricks.v1+cell": {
     "cellMetadata": {
      "byteLimit": 2048000,
      "rowLimit": 10000
     },
     "inputWidgets": {},
     "nuid": "7357d485-f9df-44c0-b520-be224fdeb018",
     "showTitle": false,
     "title": ""
    }
   },
   "outputs": [],
   "source": [
    "#Filter 1) out\n",
    "df_g_c = df_g.filter(df_g['lpep_pickup_datetime'] < df_g['lpep_dropoff_datetime'])"
   ]
  },
  {
   "cell_type": "code",
   "execution_count": 0,
   "metadata": {
    "application/vnd.databricks.v1+cell": {
     "cellMetadata": {
      "byteLimit": 2048000,
      "rowLimit": 10000
     },
     "inputWidgets": {},
     "nuid": "4a572585-8d4e-4228-93fb-ac1d34949d39",
     "showTitle": false,
     "title": ""
    }
   },
   "outputs": [],
   "source": [
    "#Save file #1\n",
    "df_g_c.write.mode(\"overwrite\").option(\"header\", True).parquet(\"/mnt/dummy-1/df_green_cleaned.parquet\")"
   ]
  },
  {
   "cell_type": "code",
   "execution_count": 0,
   "metadata": {
    "application/vnd.databricks.v1+cell": {
     "cellMetadata": {
      "byteLimit": 2048000,
      "rowLimit": 10000
     },
     "inputWidgets": {},
     "nuid": "d1c97b6c-e216-401c-a783-915f757de348",
     "showTitle": false,
     "title": ""
    }
   },
   "outputs": [],
   "source": [
    "#Load file #1\n",
    "df_g_c = spark.read.option(\"header\", True).parquet(\"/mnt/dummy-1/df_green_cleaned.parquet\")\n",
    "display(df_g_c)"
   ]
  },
  {
   "cell_type": "code",
   "execution_count": 0,
   "metadata": {
    "application/vnd.databricks.v1+cell": {
     "cellMetadata": {
      "byteLimit": 2048000,
      "rowLimit": 10000
     },
     "inputWidgets": {},
     "nuid": "cb7018f3-e3a7-45c4-b5b7-0f36770f347d",
     "showTitle": false,
     "title": ""
    }
   },
   "outputs": [],
   "source": [
    "#Count the row after filtering out\n",
    "df_g_c.cache().count()"
   ]
  },
  {
   "cell_type": "code",
   "execution_count": 0,
   "metadata": {
    "application/vnd.databricks.v1+cell": {
     "cellMetadata": {
      "byteLimit": 2048000,
      "rowLimit": 10000
     },
     "inputWidgets": {},
     "nuid": "d50c29ae-3f5b-4c2d-8a62-5c6b20f34d94",
     "showTitle": false,
     "title": ""
    }
   },
   "outputs": [],
   "source": [
    "#Copy dataframe to test some code\n",
    "\n",
    "df_g_copy = df_g_c.select(\"*\")\n",
    "display(df_g_copy)\n"
   ]
  },
  {
   "cell_type": "code",
   "execution_count": 0,
   "metadata": {
    "application/vnd.databricks.v1+cell": {
     "cellMetadata": {
      "byteLimit": 2048000,
      "rowLimit": 10000
     },
     "inputWidgets": {},
     "nuid": "11125ec7-0c4f-45ba-9870-6f31f1bd5038",
     "showTitle": false,
     "title": ""
    }
   },
   "outputs": [],
   "source": [
    "from pyspark.sql.functions import split, col\n",
    "\n",
    "# Split the lpep_pickup_datetime column into date and time\n",
    "df_g_copy = df_g_copy.withColumn(\"date_pickup\", split(col(\"lpep_pickup_datetime\"), \"T\").getItem(0))\n",
    "\n",
    "df_g_copy = df_g_copy.withColumn(\"d_pickup\", split(col(\"date_pickup\"), \" \").getItem(0))\\\n",
    "            .withColumn(\"t_pickup\", split(col(\"date_pickup\"), \" \").getItem(1))\n",
    "df_g_copy = df_g_copy.drop(\"date_pickup\")\n",
    "display(df_g_copy, truncate = False)\n"
   ]
  },
  {
   "cell_type": "code",
   "execution_count": 0,
   "metadata": {
    "application/vnd.databricks.v1+cell": {
     "cellMetadata": {
      "byteLimit": 2048000,
      "rowLimit": 10000
     },
     "inputWidgets": {},
     "nuid": "4f18bbfc-7a1a-4b49-9749-d5237b3da1db",
     "showTitle": false,
     "title": ""
    }
   },
   "outputs": [],
   "source": [
    "# Split the timestamp column into date and time\n",
    "df_g_copy = df_g_copy.withColumn(\"date_dropoff\", split(col(\"lpep_dropoff_datetime\"), \"T\").getItem(0))\n",
    "\n",
    "df_g_copy = df_g_copy.withColumn(\"d_dropoff\", split(col(\"date_dropoff\"), \" \").getItem(0))\\\n",
    "            .withColumn(\"t_dropoff\", split(col(\"date_dropoff\"), \" \").getItem(1))\n",
    "df_g_copy = df_g_copy.drop(\"date_dropoff\")\n",
    "display(df_g_copy, truncate = False)\n"
   ]
  },
  {
   "cell_type": "code",
   "execution_count": 0,
   "metadata": {
    "application/vnd.databricks.v1+cell": {
     "cellMetadata": {
      "byteLimit": 2048000,
      "rowLimit": 10000
     },
     "inputWidgets": {},
     "nuid": "0d525e11-8ff3-4f3e-baaf-0712eab57c64",
     "showTitle": false,
     "title": ""
    }
   },
   "outputs": [],
   "source": [
    "#When it is able to solve then make it become the real dataframe\n",
    "df_g_c = df_g_copy\n",
    "display(df_g_c)"
   ]
  },
  {
   "cell_type": "code",
   "execution_count": 0,
   "metadata": {
    "application/vnd.databricks.v1+cell": {
     "cellMetadata": {
      "byteLimit": 2048000,
      "rowLimit": 10000
     },
     "inputWidgets": {},
     "nuid": "39d9c394-69ee-4e52-8ba6-b63a504a5717",
     "showTitle": false,
     "title": ""
    }
   },
   "outputs": [],
   "source": [
    "# 2) Trips where the pickup/dropoff datetime is outside of the range\n",
    "# Filter the out-of-range time\n",
    "filter_2_1 = df_g_c.filter((df_g_c['t_pickup'] > '23:59:59') | (df_g_c['t_dropoff'] > '23:59:59')|(df_g_c['t_pickup'] < '00:00:00')|(df_g_c['t_dropoff'] < '00:00:00'))\n",
    "display(filter_2_1)\n"
   ]
  },
  {
   "cell_type": "code",
   "execution_count": 0,
   "metadata": {
    "application/vnd.databricks.v1+cell": {
     "cellMetadata": {
      "byteLimit": 2048000,
      "rowLimit": 10000
     },
     "inputWidgets": {},
     "nuid": "6253d11a-7d62-4ad2-8ad7-7087fdaa074e",
     "showTitle": false,
     "title": ""
    }
   },
   "outputs": [],
   "source": [
    "from pyspark.sql.functions import to_date\n",
    "\n",
    "# Convert the string columns to date \n",
    "df_g_c = df_g_c.withColumn(\"d_pickup\", to_date(df_g_c[\"d_pickup\"], \"yyyy-MM-dd\")) \\\n",
    "               .withColumn(\"d_dropoff\", to_date(df_g_c[\"d_dropoff\"], \"yyyy-MM-dd\"))\n",
    "\n",
    "\n",
    "filter_2_2 = df_g_c.filter(\n",
    "    \n",
    "    (col(\"d_pickup\") < \"2015-01-01\") | \n",
    "    (col(\"d_dropoff\") < \"2015-01-01\")\n",
    ")\n",
    "\n",
    "display(filter_2_2)"
   ]
  },
  {
   "cell_type": "code",
   "execution_count": 0,
   "metadata": {
    "application/vnd.databricks.v1+cell": {
     "cellMetadata": {
      "byteLimit": 2048000,
      "rowLimit": 10000
     },
     "inputWidgets": {},
     "nuid": "e2bf7979-ba49-4891-8cdb-f1b448f6b609",
     "showTitle": false,
     "title": ""
    }
   },
   "outputs": [],
   "source": [
    "#Filter filter_2_2 out\n",
    "df_g_c = df_g_c.filter((col(\"d_pickup\") >= \"2015-01-01\") & (col(\"d_pickup\") <= \"2022-12-31\"))\n",
    "display(df_g_c)"
   ]
  },
  {
   "cell_type": "code",
   "execution_count": 0,
   "metadata": {
    "application/vnd.databricks.v1+cell": {
     "cellMetadata": {
      "byteLimit": 2048000,
      "rowLimit": 10000
     },
     "inputWidgets": {},
     "nuid": "bd8e9d5b-eccf-4fa4-a8d8-8b9de6ad607a",
     "showTitle": false,
     "title": ""
    }
   },
   "outputs": [],
   "source": [
    "#Save file #2\n",
    "df_g_c.write.mode(\"overwrite\").option(\"header\", True).parquet(\"/mnt/dummy-1/df_green_cleaned.parquet\")"
   ]
  },
  {
   "cell_type": "code",
   "execution_count": 0,
   "metadata": {
    "application/vnd.databricks.v1+cell": {
     "cellMetadata": {
      "byteLimit": 2048000,
      "rowLimit": 10000
     },
     "inputWidgets": {},
     "nuid": "a7281896-e8ac-458f-92d3-978dd5e349d7",
     "showTitle": false,
     "title": ""
    }
   },
   "outputs": [],
   "source": [
    "#Load file #2\n",
    "df_g_c_2 = spark.read.option(\"header\", True).parquet(\"/mnt/dummy-1/df_green_cleaned.parquet\")\n",
    "display(df_g_c_2)"
   ]
  },
  {
   "cell_type": "code",
   "execution_count": 0,
   "metadata": {
    "application/vnd.databricks.v1+cell": {
     "cellMetadata": {
      "byteLimit": 2048000,
      "rowLimit": 10000
     },
     "inputWidgets": {},
     "nuid": "6766b6f3-fd5b-464f-9c2f-0c098a74ae3b",
     "showTitle": false,
     "title": ""
    }
   },
   "outputs": [],
   "source": [
    "df_g_c_2.count()"
   ]
  },
  {
   "cell_type": "code",
   "execution_count": 0,
   "metadata": {
    "application/vnd.databricks.v1+cell": {
     "cellMetadata": {
      "byteLimit": 2048000,
      "rowLimit": 10000
     },
     "inputWidgets": {},
     "nuid": "c8c6739e-a5c5-4302-a28b-e88683ff7330",
     "showTitle": false,
     "title": ""
    }
   },
   "outputs": [],
   "source": [
    "display(df_g_c_2.limit(5))"
   ]
  },
  {
   "cell_type": "code",
   "execution_count": 0,
   "metadata": {
    "application/vnd.databricks.v1+cell": {
     "cellMetadata": {
      "byteLimit": 2048000,
      "rowLimit": 10000
     },
     "inputWidgets": {},
     "nuid": "efb7468b-e1ee-4822-b334-93663acb3fde",
     "showTitle": false,
     "title": ""
    }
   },
   "outputs": [],
   "source": [
    "df_zone = spark.read.option(\"header\", True).csv(\"/FileStore/tables/taxi_zone_lookup.csv\")\n",
    "display(df_zone)"
   ]
  },
  {
   "cell_type": "code",
   "execution_count": 0,
   "metadata": {
    "application/vnd.databricks.v1+cell": {
     "cellMetadata": {
      "byteLimit": 2048000,
      "rowLimit": 10000
     },
     "inputWidgets": {},
     "nuid": "b2fc587b-ce3d-4cf8-baa6-32b906eacb3b",
     "showTitle": false,
     "title": ""
    }
   },
   "outputs": [],
   "source": [
    "df_g_c_2 = df_g_c_2.cache()"
   ]
  },
  {
   "cell_type": "code",
   "execution_count": 0,
   "metadata": {
    "application/vnd.databricks.v1+cell": {
     "cellMetadata": {
      "byteLimit": 2048000,
      "rowLimit": 10000
     },
     "inputWidgets": {},
     "nuid": "a88aaae1-5f10-4ddd-9d18-925b1bba00d2",
     "showTitle": false,
     "title": ""
    }
   },
   "outputs": [],
   "source": [
    "# 3) Trips with negative speed\n",
    "from pyspark.sql.functions import unix_timestamp, round, col\n",
    "# Calculate duration in seconds by subtracting pickup and dropoff with unix timestamp\n",
    "df_g_c_2 = df_g_c_2.withColumn(\n",
    "    \"duration_seconds\",\n",
    "    unix_timestamp(col(\"lpep_dropoff_datetime\")) - unix_timestamp(col(\"lpep_pickup_datetime\"))\n",
    ")\n",
    "# Convert seconds to hours with 2 decimal points\n",
    "df_g_c_2 = df_g_c_2.withColumn(\n",
    "    \"duration_hours\",\n",
    "    round(col(\"duration_seconds\") / 3600, 2)\n",
    ")\n",
    "\n",
    "\n",
    "display(df_g_c_2.limit(10))"
   ]
  },
  {
   "cell_type": "code",
   "execution_count": 0,
   "metadata": {
    "application/vnd.databricks.v1+cell": {
     "cellMetadata": {
      "byteLimit": 2048000,
      "rowLimit": 10000
     },
     "inputWidgets": {},
     "nuid": "cd8ffbe5-521b-4adf-9843-2b2bdb0680bb",
     "showTitle": false,
     "title": ""
    }
   },
   "outputs": [],
   "source": [
    "# Determine Speed of each trip with divided trip_distance by duration_hours\n",
    "df_g_c_2 = df_g_c_2.withColumn(\n",
    "    \"trip_speed\",\n",
    "    round(col(\"trip_distance\") / col(\"duration_hours\"), 2)\n",
    ")\n",
    "\n",
    "display(df_g_c_2.limit(10))"
   ]
  },
  {
   "cell_type": "code",
   "execution_count": 0,
   "metadata": {
    "application/vnd.databricks.v1+cell": {
     "cellMetadata": {
      "byteLimit": 2048000,
      "rowLimit": 10000
     },
     "inputWidgets": {},
     "nuid": "960eabb7-c62a-4e0b-bfbf-9c17b470f059",
     "showTitle": false,
     "title": ""
    }
   },
   "outputs": [],
   "source": [
    "df_g_c_2 = df_g_c_2.drop(\"trips_speed\") # Duplicated column made by mistake\n",
    "display(df_g_c_2.limit(10))"
   ]
  },
  {
   "cell_type": "code",
   "execution_count": 0,
   "metadata": {
    "application/vnd.databricks.v1+cell": {
     "cellMetadata": {
      "byteLimit": 2048000,
      "rowLimit": 10000
     },
     "inputWidgets": {},
     "nuid": "f038077e-23c0-45f4-9d5c-693af35b1ba4",
     "showTitle": false,
     "title": ""
    }
   },
   "outputs": [],
   "source": [
    "#Find any trips with negative speed\n",
    "filter_3 = df_g_c_2.where(\"trip_speed < 0\")\n",
    "display(filter_3)"
   ]
  },
  {
   "cell_type": "code",
   "execution_count": 0,
   "metadata": {
    "application/vnd.databricks.v1+cell": {
     "cellMetadata": {
      "byteLimit": 2048000,
      "rowLimit": 10000
     },
     "inputWidgets": {},
     "nuid": "40cc2bb2-fd14-46b5-b516-ef9fdc42dbac",
     "showTitle": false,
     "title": ""
    }
   },
   "outputs": [],
   "source": [
    "# Count the filter_3\n",
    "filter_3.count()"
   ]
  },
  {
   "cell_type": "code",
   "execution_count": 0,
   "metadata": {
    "application/vnd.databricks.v1+cell": {
     "cellMetadata": {
      "byteLimit": 2048000,
      "rowLimit": 10000
     },
     "inputWidgets": {},
     "nuid": "51c2edcb-5c39-43bb-becc-5ef86bb9bd7a",
     "showTitle": false,
     "title": ""
    }
   },
   "outputs": [],
   "source": [
    "#Filter the trips with negative speed out and count the rows have left\n",
    "df_g_c_2 = df_g_c_2.filter(col(\"trip_speed\") >= 0)\n",
    "df_g_c_2.count()"
   ]
  },
  {
   "cell_type": "code",
   "execution_count": 0,
   "metadata": {
    "application/vnd.databricks.v1+cell": {
     "cellMetadata": {
      "byteLimit": 2048000,
      "rowLimit": 10000
     },
     "inputWidgets": {},
     "nuid": "1adac761-af05-475d-9307-a1b93e6f9e7e",
     "showTitle": false,
     "title": ""
    }
   },
   "outputs": [],
   "source": [
    "# 4) Trips with very high speed (look for NYC and outside of NYC speed limit )\n",
    "# NYC has 25 mph speed limit unless otherwise posted and outside NYC is 70 mph.\n",
    "# The trip is speed over 25 mph that have to be filtered out because most of trips are in NYC.\n",
    "filter_4 = df_g_c_2.where((col(\"trip_speed\") > 25))\n",
    "display(filter_4.select(\"PULocationID\",\"DOLocationID\",\"trip_distance\", \"duration_hours\", \"trip_speed\"))\n"
   ]
  },
  {
   "cell_type": "code",
   "execution_count": 0,
   "metadata": {
    "application/vnd.databricks.v1+cell": {
     "cellMetadata": {
      "byteLimit": 2048000,
      "rowLimit": 10000
     },
     "inputWidgets": {},
     "nuid": "eb31a872-01a4-40b4-a6ff-065d771c8c52",
     "showTitle": false,
     "title": ""
    }
   },
   "outputs": [],
   "source": [
    "filter_4.count()"
   ]
  },
  {
   "cell_type": "code",
   "execution_count": 0,
   "metadata": {
    "application/vnd.databricks.v1+cell": {
     "cellMetadata": {
      "byteLimit": 2048000,
      "rowLimit": 10000
     },
     "inputWidgets": {},
     "nuid": "8b7c279c-59cf-43d5-bb61-4ffb200e2dec",
     "showTitle": false,
     "title": ""
    }
   },
   "outputs": [],
   "source": [
    "#Filter the trips with over speed limit and count the rows have left\n",
    "df_g_c_2 = df_g_c_2.filter((col(\"trip_speed\") < 25) & (col(\"trip_speed\") >= 0))\n",
    "df_g_c_2.count()"
   ]
  },
  {
   "cell_type": "code",
   "execution_count": 0,
   "metadata": {
    "application/vnd.databricks.v1+cell": {
     "cellMetadata": {
      "byteLimit": 2048000,
      "rowLimit": 10000
     },
     "inputWidgets": {},
     "nuid": "f6395287-e66d-4776-b736-f2ef4d094779",
     "showTitle": false,
     "title": ""
    }
   },
   "outputs": [],
   "source": [
    "df_g_c_2.unpersist()"
   ]
  },
  {
   "cell_type": "code",
   "execution_count": 0,
   "metadata": {
    "application/vnd.databricks.v1+cell": {
     "cellMetadata": {
      "byteLimit": 2048000,
      "rowLimit": 10000
     },
     "inputWidgets": {},
     "nuid": "f811bf64-cd52-4058-87ac-29ad80461634",
     "showTitle": false,
     "title": ""
    }
   },
   "outputs": [],
   "source": [
    "#Save file #3\n",
    "df_g_c_2.write.mode(\"overwrite\").parquet(\"/FileStore/tables/df_green_cleaned.parquet\")"
   ]
  },
  {
   "cell_type": "code",
   "execution_count": 0,
   "metadata": {
    "application/vnd.databricks.v1+cell": {
     "cellMetadata": {
      "byteLimit": 2048000,
      "rowLimit": 10000
     },
     "inputWidgets": {},
     "nuid": "3659cad9-e6db-403c-99a8-4f2661e55f9b",
     "showTitle": false,
     "title": ""
    }
   },
   "outputs": [],
   "source": [
    "#Load file #3\n",
    "df_g_c_3 = spark.read.option(\"header\", True).parquet(\"/FileStore/tables/df_green_cleaned.parquet\")\n",
    "display(df_g_c_3)"
   ]
  },
  {
   "cell_type": "code",
   "execution_count": 0,
   "metadata": {
    "application/vnd.databricks.v1+cell": {
     "cellMetadata": {
      "byteLimit": 2048000,
      "rowLimit": 10000
     },
     "inputWidgets": {},
     "nuid": "50af222a-7e4a-4a23-b129-efdd30cd18d4",
     "showTitle": false,
     "title": ""
    }
   },
   "outputs": [],
   "source": [
    "df_g_c_3.count()"
   ]
  },
  {
   "cell_type": "code",
   "execution_count": 0,
   "metadata": {
    "application/vnd.databricks.v1+cell": {
     "cellMetadata": {
      "byteLimit": 2048000,
      "rowLimit": 10000
     },
     "inputWidgets": {},
     "nuid": "03edbe53-9ddd-4289-9e4a-e204c963181d",
     "showTitle": false,
     "title": ""
    }
   },
   "outputs": [],
   "source": [
    "# 5) Trips that are travelling too short or too long (duration wise)\n",
    "#Find the trips that are too short duration.\n",
    "# Find trips that have duration shorter than 0.02 * 60 = 1.2 minutes\n",
    "filter_5 = df_g_c_3.where(\"duration_hours < 0.02\")\n",
    "display(filter_5.select(\"duration_hours\"))\n",
    "filter_5.count()"
   ]
  },
  {
   "cell_type": "code",
   "execution_count": 0,
   "metadata": {
    "application/vnd.databricks.v1+cell": {
     "cellMetadata": {
      "byteLimit": 2048000,
      "rowLimit": 10000
     },
     "inputWidgets": {},
     "nuid": "41f758e7-aa83-4679-a559-8280e703073d",
     "showTitle": false,
     "title": ""
    }
   },
   "outputs": [],
   "source": [
    "#Filter 5) out\n",
    "from pyspark.sql.functions import col\n",
    "df_g_c_3 = df_g_c_3.filter(col(\"duration_hours\") >= 0.02)\n",
    "df_g_c_3.select(\"duration_hours\").show()"
   ]
  },
  {
   "cell_type": "code",
   "execution_count": 0,
   "metadata": {
    "application/vnd.databricks.v1+cell": {
     "cellMetadata": {
      "byteLimit": 2048000,
      "rowLimit": 10000
     },
     "inputWidgets": {},
     "nuid": "1b44bb92-aa06-47b2-9534-9e00eb2657dd",
     "showTitle": false,
     "title": ""
    }
   },
   "outputs": [],
   "source": [
    "df_g_c_3.count()"
   ]
  },
  {
   "cell_type": "code",
   "execution_count": 0,
   "metadata": {
    "application/vnd.databricks.v1+cell": {
     "cellMetadata": {
      "byteLimit": 2048000,
      "rowLimit": 10000
     },
     "inputWidgets": {},
     "nuid": "a5402156-6f40-4da9-864c-cd95a358b16f",
     "showTitle": false,
     "title": ""
    }
   },
   "outputs": [],
   "source": [
    "#Find the trips that too long\n",
    "# A driver shift is 12 hours is from the rule. \n",
    "filter_5_1 = df_g_c_3.where(\"duration_hours > 12.00\")\n",
    "display(filter_5_1.select(\"duration_hours\"))\n",
    "filter_5_1.count()"
   ]
  },
  {
   "cell_type": "code",
   "execution_count": 0,
   "metadata": {
    "application/vnd.databricks.v1+cell": {
     "cellMetadata": {
      "byteLimit": 2048000,
      "rowLimit": 10000
     },
     "inputWidgets": {},
     "nuid": "aea6cbb0-1383-4297-b890-954874729b2c",
     "showTitle": false,
     "title": ""
    }
   },
   "outputs": [],
   "source": [
    "#Filter 5_1 out\n",
    "df_g_c_3 = df_g_c_3.filter(col(\"duration_hours\") <= 12.00)\n",
    "df_g_c_3.select(\"duration_hours\").show()\n",
    "df_g_c_3.count()"
   ]
  },
  {
   "cell_type": "code",
   "execution_count": 0,
   "metadata": {
    "application/vnd.databricks.v1+cell": {
     "cellMetadata": {
      "byteLimit": 2048000,
      "rowLimit": 10000
     },
     "inputWidgets": {},
     "nuid": "d1980b8e-43b0-40ab-a6fd-903388bc0afd",
     "showTitle": false,
     "title": ""
    }
   },
   "outputs": [],
   "source": [
    "# 6) Trips that are travelling too short or too long (distance wise)\n",
    "#Find the trips that are too short\n",
    "#Filter the same Pickup and Dropoff location or distance shorter than 0.1 miles or 0.16 km which is the distance that regular people can walk.\n",
    "filter_6 = df_g_c_3.where((col(\"trip_distance\") < 0.1))\n",
    "filter_6.select(\"PULocationID\", \"DOLocationID\", \"trip_distance\").show()\n",
    "filter_6.count()"
   ]
  },
  {
   "cell_type": "code",
   "execution_count": 0,
   "metadata": {
    "application/vnd.databricks.v1+cell": {
     "cellMetadata": {
      "byteLimit": 2048000,
      "rowLimit": 10000
     },
     "inputWidgets": {},
     "nuid": "00c984b8-56f0-40ea-b620-7c5478b9ce3e",
     "showTitle": false,
     "title": ""
    }
   },
   "outputs": [],
   "source": [
    "#Filter 6) out\n",
    "df_g_c_3 = df_g_c_3.filter(col(\"trip_distance\") >= 0.1)\n",
    "df_g_c_3.select(\"trip_distance\").show()\n",
    "df_g_c_3.count()"
   ]
  },
  {
   "cell_type": "code",
   "execution_count": 0,
   "metadata": {
    "application/vnd.databricks.v1+cell": {
     "cellMetadata": {
      "byteLimit": 2048000,
      "rowLimit": 10000
     },
     "inputWidgets": {},
     "nuid": "0e296ddc-b09c-419d-b63c-df1ecb1255f5",
     "showTitle": false,
     "title": ""
    }
   },
   "outputs": [],
   "source": [
    "#Find the trips that are too long distance.\n",
    "#Measured the distance from the northest to the southest of NYC is around 50 miles. So, taxi can't commute more than 50 miles\n",
    "#Filter the trip that has the distance more than 50 miles\n",
    "filter_6_1 = df_g_c_3.where((col(\"trip_distance\") > 50))\n",
    "filter_6_1.select(\"PULocationID\", \"DOLocationID\", \"trip_distance\").show()\n",
    "filter_6_1.count()\n"
   ]
  },
  {
   "cell_type": "code",
   "execution_count": 0,
   "metadata": {
    "application/vnd.databricks.v1+cell": {
     "cellMetadata": {
      "byteLimit": 2048000,
      "rowLimit": 10000
     },
     "inputWidgets": {},
     "nuid": "39ae793a-aba2-4fff-9eca-5fe9dc297559",
     "showTitle": false,
     "title": ""
    }
   },
   "outputs": [],
   "source": [
    "#Filter 6_1) out\n",
    "df_g_c_3 = df_g_c_3.filter(col(\"trip_distance\") <= 50)\n",
    "df_g_c_3.select(\"trip_distance\").show()\n",
    "df_g_c_3.count()\n"
   ]
  },
  {
   "cell_type": "code",
   "execution_count": 0,
   "metadata": {
    "application/vnd.databricks.v1+cell": {
     "cellMetadata": {
      "byteLimit": 2048000,
      "rowLimit": 10000
     },
     "inputWidgets": {},
     "nuid": "777b794d-e58b-4188-9e41-28112eff1407",
     "showTitle": false,
     "title": ""
    }
   },
   "outputs": [],
   "source": [
    "#7) Any other logic you think is important\n",
    "#Show the cleaned dataset of green taxi so far\n",
    "display(df_g_c_3)\n",
    "df_g_c_3.count()"
   ]
  },
  {
   "cell_type": "code",
   "execution_count": 0,
   "metadata": {
    "application/vnd.databricks.v1+cell": {
     "cellMetadata": {
      "byteLimit": 2048000,
      "rowLimit": 10000
     },
     "inputWidgets": {},
     "nuid": "8e060897-9d7a-45a9-a4af-03b35822be35",
     "showTitle": false,
     "title": ""
    }
   },
   "outputs": [],
   "source": [
    "#Use Spark SQL and create temp view for SQL\n",
    "df_g_c_3.createOrReplaceTempView(\"taxi_g_trips\")"
   ]
  },
  {
   "cell_type": "code",
   "execution_count": 0,
   "metadata": {
    "application/vnd.databricks.v1+cell": {
     "cellMetadata": {
      "byteLimit": 2048000,
      "rowLimit": 10000
     },
     "inputWidgets": {},
     "nuid": "4a90564e-0e50-4eea-8898-0706cd003d20",
     "showTitle": false,
     "title": ""
    }
   },
   "outputs": [],
   "source": [
    "#Filter the total amount charged to passengers less than 3 because the initial charge of 2015-2022 is $2.50 \n",
    "filter_7_1 = spark.sql(\"SELECT total_amount FROM taxi_g_trips WHERE total_amount < 2.50\")\n",
    "filter_7_1.show()\n",
    "filter_7_1.count()"
   ]
  },
  {
   "cell_type": "code",
   "execution_count": 0,
   "metadata": {
    "application/vnd.databricks.v1+cell": {
     "cellMetadata": {
      "byteLimit": 2048000,
      "rowLimit": 10000
     },
     "inputWidgets": {},
     "nuid": "3866723c-bfcd-4552-8539-d93590d4d5c0",
     "showTitle": false,
     "title": ""
    }
   },
   "outputs": [],
   "source": [
    "#Filter 7_1) out\n",
    "df_g_c_3 = df_g_c_3.filter(\"total_amount >= 2.50\")\n",
    "display(df_g_c_3)\n",
    "df_g_c_3.count()"
   ]
  },
  {
   "cell_type": "code",
   "execution_count": 0,
   "metadata": {
    "application/vnd.databricks.v1+cell": {
     "cellMetadata": {
      "byteLimit": 2048000,
      "rowLimit": 10000
     },
     "inputWidgets": {},
     "nuid": "cd886b14-8c71-4798-abb2-9a051c6f1c91",
     "showTitle": false,
     "title": ""
    }
   },
   "outputs": [],
   "source": [
    "#Show the value of each MTA tax\n",
    "filter_7_2 = spark.sql(\"SELECT mta_tax, COUNT(*) AS numbers FROM taxi_g_trips GROUP BY mta_tax \")\n",
    "filter_7_2.show()"
   ]
  },
  {
   "cell_type": "code",
   "execution_count": 0,
   "metadata": {
    "application/vnd.databricks.v1+cell": {
     "cellMetadata": {
      "byteLimit": 2048000,
      "rowLimit": 10000
     },
     "inputWidgets": {},
     "nuid": "5df92837-6df9-45cf-8cff-8796b86876c4",
     "showTitle": false,
     "title": ""
    }
   },
   "outputs": [],
   "source": [
    "#Filter the MTA tax that is not 0.5 and 0 out because $0.5 MTA tax is applied to trips inside Manhattan, Other trip outside Manhattan MTA tax is not applied.\n",
    "df_g_c_3 = df_g_c_3.filter((col(\"mta_tax\") == 0) | (col(\"mta_tax\") == 0.5))\n",
    "display(df_g_c_3)\n",
    "df_g_c_3.count()"
   ]
  },
  {
   "cell_type": "code",
   "execution_count": 0,
   "metadata": {
    "application/vnd.databricks.v1+cell": {
     "cellMetadata": {
      "byteLimit": 2048000,
      "rowLimit": 10000
     },
     "inputWidgets": {},
     "nuid": "33cce0d3-aa4c-4f69-9c5a-51fe63e130c3",
     "showTitle": false,
     "title": ""
    }
   },
   "outputs": [],
   "source": [
    "#Filter the extra that occur when trips are driving in rush hour or overnight. \n",
    "filter_7_3 = spark.sql(\"SELECT extra, COUNT(*) AS numbers FROM taxi_g_trips WHERE extra IN (0, 0.5, 1) GROUP BY extra\")\n",
    "filter_7_3.show()"
   ]
  },
  {
   "cell_type": "code",
   "execution_count": 0,
   "metadata": {
    "application/vnd.databricks.v1+cell": {
     "cellMetadata": {
      "byteLimit": 2048000,
      "rowLimit": 10000
     },
     "inputWidgets": {},
     "nuid": "2bbf0bb0-4c53-4987-8a9e-ce0de20c3aa7",
     "showTitle": false,
     "title": ""
    }
   },
   "outputs": [],
   "source": [
    "# Filter only 7_3 \n",
    "df_g_c_3 = df_g_c_3.filter((col(\"extra\") == 0) | (col(\"extra\") == 0.5) | (col(\"extra\") == 1.0))\n",
    "display(df_g_c_3)\n",
    "df_g_c_3.count()"
   ]
  },
  {
   "cell_type": "code",
   "execution_count": 0,
   "metadata": {
    "application/vnd.databricks.v1+cell": {
     "cellMetadata": {
      "byteLimit": 2048000,
      "rowLimit": 10000
     },
     "inputWidgets": {},
     "nuid": "785021f2-4a9f-4af1-b9cd-35520f832766",
     "showTitle": false,
     "title": ""
    }
   },
   "outputs": [],
   "source": [
    "#Find improvement surcharge how much of each trip.\n",
    "filter_7_4 = spark.sql(\"SELECT improvement_surcharge, COUNT(*) AS numbers FROM taxi_g_trips GROUP BY improvement_surcharge\")\n",
    "filter_7_4.show()"
   ]
  },
  {
   "cell_type": "code",
   "execution_count": 0,
   "metadata": {
    "application/vnd.databricks.v1+cell": {
     "cellMetadata": {
      "byteLimit": 2048000,
      "rowLimit": 10000
     },
     "inputWidgets": {},
     "nuid": "40c6edd3-9e87-416c-b447-f6dea71b9537",
     "showTitle": false,
     "title": ""
    }
   },
   "outputs": [],
   "source": [
    "# Filter 7_4 only Improvement_surcharge = 0.3 \n",
    "df_g_c_3 = df_g_c_3.filter((col(\"Improvement_surcharge\") == 0.3))\n",
    "display(df_g_c_3)\n",
    "df_g_c_3.count()"
   ]
  },
  {
   "cell_type": "code",
   "execution_count": 0,
   "metadata": {
    "application/vnd.databricks.v1+cell": {
     "cellMetadata": {
      "byteLimit": 2048000,
      "rowLimit": 10000
     },
     "inputWidgets": {},
     "nuid": "cd53316d-0014-4fb2-94cf-4edecaa2cadd",
     "showTitle": false,
     "title": ""
    }
   },
   "outputs": [],
   "source": [
    "#Filter the negative value of fare_amount, tip_amount, tolls_amount\n",
    "filter_7_5 = spark.sql(\"SELECT fare_amount, count(*) AS numbers FROM taxi_g_trips where fare_amount < 0 GROUP BY fare_amount \")\n",
    "filter_7_5.show()\n",
    "filter_7_5.count()"
   ]
  },
  {
   "cell_type": "code",
   "execution_count": 0,
   "metadata": {
    "application/vnd.databricks.v1+cell": {
     "cellMetadata": {
      "byteLimit": 2048000,
      "rowLimit": 10000
     },
     "inputWidgets": {},
     "nuid": "63d5775d-91e0-4e57-867a-1835528c8af5",
     "showTitle": false,
     "title": ""
    }
   },
   "outputs": [],
   "source": [
    "filter_7_6 = spark.sql(\"SELECT tip_amount, count(*) AS numbers FROM taxi_g_trips where tip_amount < 0 GROUP BY tip_amount \")\n",
    "filter_7_6.show()\n",
    "filter_7_6.count()"
   ]
  },
  {
   "cell_type": "code",
   "execution_count": 0,
   "metadata": {
    "application/vnd.databricks.v1+cell": {
     "cellMetadata": {
      "byteLimit": 2048000,
      "rowLimit": 10000
     },
     "inputWidgets": {},
     "nuid": "904d166e-2bc0-4ace-85db-bebf5f078132",
     "showTitle": false,
     "title": ""
    }
   },
   "outputs": [],
   "source": [
    "filter_7_7 = spark.sql(\"SELECT tolls_amount, count(*) AS numbers FROM taxi_g_trips where tolls_amount < 0 GROUP BY tolls_amount \")\n",
    "filter_7_7.show()\n",
    "filter_7_7.count()"
   ]
  },
  {
   "cell_type": "code",
   "execution_count": 0,
   "metadata": {
    "application/vnd.databricks.v1+cell": {
     "cellMetadata": {
      "byteLimit": 2048000,
      "rowLimit": 10000
     },
     "inputWidgets": {},
     "nuid": "5f18c3e7-9734-4301-90d4-8707ebf6a21e",
     "showTitle": false,
     "title": ""
    }
   },
   "outputs": [],
   "source": [
    "#Filter 7_5, 7_6 and 7_7 out\n",
    "df_g_c_3 = df_g_c_3.filter((col(\"fare_amount\") >= 0) | (col(\"tolls_amount\") >= 0) |(col(\"tip_amount\") >= 0))\n",
    "display(df_g_c_3)\n",
    "df_g_c_3.count()"
   ]
  },
  {
   "cell_type": "code",
   "execution_count": 0,
   "metadata": {
    "application/vnd.databricks.v1+cell": {
     "cellMetadata": {
      "byteLimit": 2048000,
      "rowLimit": 10000
     },
     "inputWidgets": {},
     "nuid": "5845a59f-06e1-46db-9445-34c7b17596db",
     "showTitle": false,
     "title": ""
    }
   },
   "outputs": [],
   "source": [
    "#Find the impossible passenger count\n",
    "filter_7_8 = spark.sql(\"SELECT passenger_count, count(*) AS numbers FROM taxi_g_trips GROUP BY passenger_count \")\n",
    "filter_7_8.show()\n"
   ]
  },
  {
   "cell_type": "code",
   "execution_count": 0,
   "metadata": {
    "application/vnd.databricks.v1+cell": {
     "cellMetadata": {
      "byteLimit": 2048000,
      "rowLimit": 10000
     },
     "inputWidgets": {},
     "nuid": "5e11442e-21c3-4253-a1c4-b139c42e49cd",
     "showTitle": false,
     "title": ""
    }
   },
   "outputs": [],
   "source": [
    "#Filter out the passenger count more than 5 passengers and 0 passenger because The maximum amount of passengers are allowed in a taxicab by law is four in a four passenger taxicab or five passengers in a five passenger taxicab.\n",
    "df_g_c_3 = df_g_c_3.filter((col(\"passenger_count\") <= 5) & (col(\"passenger_count\") > 0))\n",
    "display(df_g_c_3)\n",
    "df_g_c_3.count()"
   ]
  },
  {
   "cell_type": "code",
   "execution_count": 0,
   "metadata": {
    "application/vnd.databricks.v1+cell": {
     "cellMetadata": {
      "byteLimit": 2048000,
      "rowLimit": 10000
     },
     "inputWidgets": {},
     "nuid": "b48cfba7-7a8f-42d0-965d-d47039a54768",
     "showTitle": false,
     "title": ""
    }
   },
   "outputs": [],
   "source": [
    "#Drop the timestamp columns \n",
    "df_g_c_3 = df_g_c_3.drop(\"lpep_pickup_datetime\", \"lpep_dropoff_datetime\", \"duration_seconds\")\n",
    "display(df_g_c_3)"
   ]
  },
  {
   "cell_type": "code",
   "execution_count": 0,
   "metadata": {
    "application/vnd.databricks.v1+cell": {
     "cellMetadata": {
      "byteLimit": 2048000,
      "rowLimit": 10000
     },
     "inputWidgets": {},
     "nuid": "c884d347-c36c-40d9-94ec-3c772de3519e",
     "showTitle": false,
     "title": ""
    }
   },
   "outputs": [],
   "source": [
    "#Save the final green taxi dataframe \n",
    "df_g_c_3.write.mode(\"overwrite\").parquet(\"/FileStore/tables/df_green_cleaned.parquet\")"
   ]
  },
  {
   "cell_type": "code",
   "execution_count": 0,
   "metadata": {
    "application/vnd.databricks.v1+cell": {
     "cellMetadata": {
      "byteLimit": 2048000,
      "rowLimit": 10000
     },
     "inputWidgets": {},
     "nuid": "3902ca8a-7644-4523-a25f-6d67c2bf2cce",
     "showTitle": false,
     "title": ""
    }
   },
   "outputs": [],
   "source": [
    "#Load the final green taxi dataframe\n",
    "df_g_cleaned = spark.read.option(\"header\", True).parquet(\"/FileStore/tables/df_green_cleaned.parquet\")\n",
    "display(df_g_cleaned)\n",
    "df_g_cleaned.count()"
   ]
  },
  {
   "cell_type": "code",
   "execution_count": 0,
   "metadata": {
    "application/vnd.databricks.v1+cell": {
     "cellMetadata": {
      "byteLimit": 2048000,
      "rowLimit": 10000
     },
     "inputWidgets": {},
     "nuid": "7afcbe26-ef85-43da-a971-c38f2f576363",
     "showTitle": false,
     "title": ""
    }
   },
   "outputs": [],
   "source": [
    "# Load green taxi dataframe\n",
    "df_g_cleaned = spark.read.option(\"header\", True).parquet(\"/FileStore/tables/df_green_cleaned.parquet\")\n",
    "display(df_g_cleaned)\n",
    "df_g_cleaned.count()"
   ]
  },
  {
   "cell_type": "code",
   "execution_count": 0,
   "metadata": {
    "application/vnd.databricks.v1+cell": {
     "cellMetadata": {
      "byteLimit": 2048000,
      "rowLimit": 10000
     },
     "inputWidgets": {},
     "nuid": "5a52f02e-b978-41d1-a143-5e0598b74cfb",
     "showTitle": false,
     "title": ""
    }
   },
   "outputs": [],
   "source": [
    "#Drop some unused columns \n",
    "df_g_cleaned = df_g_cleaned.drop(\"VendorID\", \"store_and_fwd_flag\", \"RatecodeID\", \"payment_type\", \"trip_type\")\n",
    "display(df_g_cleaned)"
   ]
  },
  {
   "cell_type": "code",
   "execution_count": 0,
   "metadata": {
    "application/vnd.databricks.v1+cell": {
     "cellMetadata": {
      "byteLimit": 2048000,
      "rowLimit": 10000
     },
     "inputWidgets": {},
     "nuid": "614a95a8-8eb2-47fe-8c52-91969218eaff",
     "showTitle": false,
     "title": ""
    }
   },
   "outputs": [],
   "source": [
    "#Use Spark SQL and create temp view for SQL\n",
    "df_g_cleaned.createOrReplaceTempView(\"taxi_g_trips\")"
   ]
  },
  {
   "cell_type": "code",
   "execution_count": 0,
   "metadata": {
    "application/vnd.databricks.v1+cell": {
     "cellMetadata": {
      "byteLimit": 2048000,
      "rowLimit": 10000
     },
     "inputWidgets": {},
     "nuid": "17cd6782-fa5c-4507-9dce-04b313ee2b0e",
     "showTitle": false,
     "title": ""
    }
   },
   "outputs": [],
   "source": [
    "#Filter the congestion surcharge\n",
    "filter_cs = spark.sql(\"SELECT congestion_surcharge, count(*) AS numbers FROM taxi_g_trips GROUP BY congestion_surcharge\")\n",
    "filter_cs.show()"
   ]
  },
  {
   "cell_type": "code",
   "execution_count": 0,
   "metadata": {
    "application/vnd.databricks.v1+cell": {
     "cellMetadata": {
      "byteLimit": 2048000,
      "rowLimit": 10000
     },
     "inputWidgets": {},
     "nuid": "9893bd1a-79db-437f-a824-3f219c96da3a",
     "showTitle": false,
     "title": ""
    }
   },
   "outputs": [],
   "source": [
    "#Filter only 2.75, 0 and null value\n",
    "df_g_cleaned = df_g_cleaned.filter((col(\"congestion_surcharge\").isNull()) | (col(\"congestion_surcharge\") == 0) | (col(\"congestion_surcharge\") == 2.75))\n",
    "display(df_g_cleaned)\n",
    "df_g_cleaned.count()"
   ]
  },
  {
   "cell_type": "code",
   "execution_count": 0,
   "metadata": {
    "application/vnd.databricks.v1+cell": {
     "cellMetadata": {
      "byteLimit": 2048000,
      "rowLimit": 10000
     },
     "inputWidgets": {},
     "nuid": "0cbe4a8b-b7c0-4f1e-abb7-e324264e6e83",
     "showTitle": false,
     "title": ""
    }
   },
   "outputs": [],
   "source": [
    "#Save the final version of green taxi\n",
    "df_g_cleaned.write.mode(\"overwrite\").parquet(\"/FileStore/tables/df_green_cleaned.parquet\")"
   ]
  },
  {
   "cell_type": "code",
   "execution_count": 0,
   "metadata": {
    "application/vnd.databricks.v1+cell": {
     "cellMetadata": {
      "byteLimit": 2048000,
      "rowLimit": 10000
     },
     "inputWidgets": {},
     "nuid": "e0b227ac-b761-4f2c-b27c-c17434973308",
     "showTitle": false,
     "title": ""
    }
   },
   "outputs": [],
   "source": [
    "df_g_cleaned = spark.read.option(\"header\", True).parquet(\"/FileStore/tables/df_green_cleaned.parquet\")\n",
    "display(df_g_cleaned)\n",
    "df_g_cleaned.count()"
   ]
  },
  {
   "cell_type": "markdown",
   "metadata": {
    "application/vnd.databricks.v1+cell": {
     "cellMetadata": {
      "byteLimit": 2048000,
      "rowLimit": 10000
     },
     "inputWidgets": {},
     "nuid": "13aa9790-a603-421f-8b68-82e03998a822",
     "showTitle": false,
     "title": ""
    }
   },
   "source": []
  }
 ],
 "metadata": {
  "application/vnd.databricks.v1+notebook": {
   "dashboards": [],
   "environmentMetadata": null,
   "language": "python",
   "notebookMetadata": {
    "pythonIndentUnit": 4
   },
   "notebookName": "bde-assignment-2-part-1_1",
   "widgets": {}
  }
 },
 "nbformat": 4,
 "nbformat_minor": 0
}
